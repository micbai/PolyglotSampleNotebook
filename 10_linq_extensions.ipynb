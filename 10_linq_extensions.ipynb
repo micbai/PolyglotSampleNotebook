{
 "cells": [
  {
   "attachments": {},
   "cell_type": "markdown",
   "metadata": {},
   "source": [
    "# Linq\n",
    "\n",
    "Language-Integrated Query (LINQ) is a powerful set of technologies based on the integration of query capabilities directly into the C# language. LINQ Queries are the first-class language construct in C#.NET, just like classes, methods, events. The LINQ provides a consistent query experience to query objects (LINQ to Objects), relational databases (LINQ to SQL), XML documents (LINQ to XML), ADO.NET Datasets (LINQ to DataSet), and web services (LINQ to Entities).\n",
    "\n",
    "LINQ queries provide filtering, ordering, and grouping capabilities. It also provides the ability to perform join operations on data sources. LINQ includes the following features:123\n",
    "\n",
    "* Standard query operators that allow querying of in-memory collections like arrays or lists.\n",
    "* Language extensions that allow querying of remote data sources like relational databases or XML documents.\n",
    "* LINQ to SQL technology that allows querying of SQL Server databases using SQL-like syntax.\n",
    "* LINQ to XML technology that allows querying of XML documents using XPath expressions.\n",
    "\n",
    "\n",
    "\n",
    "Usefule Links:\n",
    "\n",
    "* [DotNetTurorials](https://dotnettutorials.net/lesson/introduction-to-linq/)\n",
    "* [TutorialsTeacher](https://www.tutorialsteacher.com/linq)\n",
    "* [Performance Improvements](https://devblogs.microsoft.com/dotnet/performance_improvements_in_net_7/)"
   ]
  },
  {
   "cell_type": "code",
   "execution_count": null,
   "metadata": {
    "dotnet_interactive": {
     "language": "csharp"
    },
    "polyglot_notebook": {
     "kernelName": "csharp"
    }
   },
   "outputs": [],
   "source": [
    "#r \"nuget:AlgorithmLibrary.MicBai, 0.0.5\" \n",
    "using AlgorithmLibrary;\n",
    "\n",
    "using System.IO;\n",
    "using System.Text;\n",
    "using System.Collections.Generic;\n",
    "using System.Linq;"
   ]
  },
  {
   "cell_type": "code",
   "execution_count": null,
   "metadata": {
    "dotnet_interactive": {
     "language": "csharp"
    },
    "polyglot_notebook": {
     "kernelName": "csharp"
    }
   },
   "outputs": [],
   "source": [
    "void GenerateData(string[] fileNames)\n",
    "{\n",
    "    foreach (var fileName in fileNames)\n",
    "    {\n",
    "        File.WriteAllText(fileName, \"Date,Name,Score\\n\");\n",
    "        // generate a random number of records between 25 and 100\n",
    "        int count = new Random().Next(25, 100);\n",
    "\n",
    "        for (int i = 0; i < count; i++)\n",
    "        {\n",
    "            // create a set of data containing records with random dates, a random name and a random score\n",
    "            var Date = RandomData.Dates().First();\n",
    "            var Name = RandomData.FirstNames().First() + \" \" + RandomData.LastNames().First();\n",
    "            var Score = RandomData.Integers(10, 100).First();\n",
    "\n",
    "            // write the data to the file\n",
    "            System.IO.File.AppendAllText(fileName, $\"{Date},{Name},{Score}\\n\");\n",
    "        }\n",
    "\n",
    "        Console.WriteLine(fileName + \"  \" + new FileInfo(fileName).Length);\n",
    "    }\n",
    "\n",
    "    FileInfo[] files = new FileInfo[fileNames.Length];\n",
    "    //Console.WriteLine(fileNames);\n",
    "}\n",
    "\n",
    "string path = @\"C:\\Temp\\logs\\\";\n",
    "string[] fileNames = new string[] { $\"{path}file1.txt\", $\"{path}file2.txt\", $\"{path}file3.txt\", $\"{path}file4.txt\", $\"{path}file5.txt\", $\"{path}file6.txt\", $\"{path}file7.txt\" };\n",
    "\n",
    "GenerateData(fileNames);\n"
   ]
  },
  {
   "cell_type": "code",
   "execution_count": null,
   "metadata": {
    "dotnet_interactive": {
     "language": "csharp"
    },
    "polyglot_notebook": {
     "kernelName": "csharp"
    }
   },
   "outputs": [],
   "source": [
    "// without link \n",
    "void DisplayLargestStatFilesWithoutLinq(string path)\n",
    "{\n",
    "    var dirInfo = new DirectoryInfo(path);\n",
    "    FileInfo[] files = dirInfo.GetFiles();\n",
    "    Array.Sort(files, (x, y) =>\n",
    "    {\n",
    "        if (x.Length == y.Length)\n",
    "            return 0;\n",
    "        if (x.Length > y.Length)\n",
    "            return -1;\n",
    "        return 1;\n",
    "    });\n",
    "\n",
    "    for (int i = 0; i < 3; i++)\n",
    "    {\n",
    "        FileInfo file = files[i];\n",
    "        Console.WriteLine($\"{file.Name} weights {file.Length}\");\n",
    "    }\n",
    "}\n",
    "\n",
    "DisplayLargestStatFilesWithoutLinq(path);"
   ]
  },
  {
   "cell_type": "code",
   "execution_count": null,
   "metadata": {
    "dotnet_interactive": {
     "language": "csharp"
    },
    "polyglot_notebook": {
     "kernelName": "csharp"
    }
   },
   "outputs": [],
   "source": [
    "// with link\n",
    "void DisplayLargestStatFilesWithLinq(string path)\n",
    "{\n",
    "    new DirectoryInfo(path)\n",
    "                .GetFiles()\n",
    "                .Filter(file => file.LastWriteTime > new DateTime(2018, 08, 01)) // extension method\n",
    "                //.Where(file => file.LastWriteTime < new DateTime(2018, 08, 01))\n",
    "                .OrderByDescending(file => file.Length)\n",
    "                .Take(3)\n",
    "                .ForEach(file => Console.WriteLine($\"{file.Name} weights {file.Length}\")); // extension method\n",
    "}\n",
    "\n",
    "DisplayLargestStatFilesWithLinq(path);"
   ]
  }
 ],
 "metadata": {
  "kernelspec": {
   "display_name": ".NET (C#)",
   "language": "C#",
   "name": ".net-csharp"
  },
  "language_info": {
   "name": "polyglot-notebook"
  },
  "polyglot_notebook": {
   "kernelInfo": {
    "defaultKernelName": "csharp",
    "items": [
     {
      "aliases": [],
      "languageName": "csharp",
      "name": "csharp"
     }
    ]
   }
  }
 },
 "nbformat": 4,
 "nbformat_minor": 2
}
