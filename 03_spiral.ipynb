{
 "cells": [
  {
   "attachments": {},
   "cell_type": "markdown",
   "metadata": {
    "dotnet_interactive": {
     "language": "csharp"
    },
    "polyglot_notebook": {
     "kernelName": "csharp"
    }
   },
   "source": [
    "[Microsoft System Numerics](https://docs.microsoft.com/de-de/dotnet/api/system.numerics?view=net-6.0)"
   ]
  },
  {
   "cell_type": "code",
   "execution_count": 20,
   "metadata": {
    "dotnet_interactive": {
     "language": "csharp"
    },
    "polyglot_notebook": {
     "kernelName": "csharp"
    },
    "vscode": {
     "languageId": "polyglot-notebook"
    }
   },
   "outputs": [],
   "source": [
    "using System.Numerics;\n",
    "\n",
    "public class Compute2D\n",
    "{       \n",
    "    /// <summary>\n",
    "    /// Compute SpiralPoints in XY coordinate system, starting from centerPoint, with stepSize and stepRange\n",
    "    /// </summary>\n",
    "    /// <param name=\"centerPoint\"></param>\n",
    "    /// <param name=\"stepSize\"></param>\n",
    "    /// <param name=\"stepRange\"></param>\n",
    "    /// <returns>collection of Vectors</returns>\n",
    "    public IEnumerable<Vector2> SpiralPoints(Vector2 centerPoint, float stepSize, float stepRange)\n",
    "    {\n",
    "        // sanity check\n",
    "        if (stepSize > stepRange || stepSize < 0f || stepRange <0f)\n",
    "            return new List<Vector2>() { centerPoint };\n",
    "\n",
    "        int size = (int)(stepRange / stepSize);\n",
    "        var series = new List<Vector2>();            \n",
    "        var points = SpiralPoints(size);\n",
    "        var center = new Vector2(size/2, size/2);            \n",
    "\n",
    "        foreach(var point in points)\n",
    "        {                \n",
    "            var shift = Vector2.Subtract(point, center);                \n",
    "            var scale = new Vector2(shift.X * stepSize, shift.Y * stepSize);                \n",
    "            series.Add(Vector2.Add(centerPoint, scale));\n",
    "        }\n",
    "\n",
    "        return series;\n",
    "    }\n",
    "\n",
    "    /// <summary>\n",
    "    /// SpiralPoints\n",
    "    /// </summary>\n",
    "    /// <param name=\"size\"></param>\n",
    "    /// <returns></returns>\n",
    "    private IEnumerable<Vector2> SpiralPoints(int size)\n",
    "    {\n",
    "        Vector2 point = new Vector2(size / 2, size / 2);\n",
    "\n",
    "        yield return point;\n",
    "        int sign = 1;\n",
    "        for (int row = 1; row < size; row++)\n",
    "        {\n",
    "            // move right/left by row, and then up/down by row\n",
    "            for (int k = 0; k < row; k++)\n",
    "            {\n",
    "                point = Vector2.Add(point, new Vector2(sign, 0));                    \n",
    "                yield return point;\n",
    "            }\n",
    "            for (int k = 0; k < row; k++)\n",
    "            {                    \n",
    "                point = Vector2.Add(point, new Vector2(0, -sign));\n",
    "                yield return point;\n",
    "            }\n",
    "            sign *= -1;\n",
    "        }\n",
    "        // last leg to finish filling the area\n",
    "        for (int k = 0; k < size - 1; k++)\n",
    "        {                \n",
    "            point = Vector2.Add(point, new Vector2(sign, 0));\n",
    "            yield return point;\n",
    "        }\n",
    "    }\n",
    "}"
   ]
  },
  {
   "attachments": {},
   "cell_type": "markdown",
   "metadata": {
    "dotnet_interactive": {
     "language": "csharp"
    },
    "polyglot_notebook": {
     "kernelName": "csharp"
    }
   },
   "source": [
    "[plotly](https://plotly.net/)"
   ]
  },
  {
   "cell_type": "code",
   "execution_count": 13,
   "metadata": {
    "dotnet_interactive": {
     "language": "csharp"
    },
    "polyglot_notebook": {
     "kernelName": "csharp"
    },
    "vscode": {
     "languageId": "polyglot-notebook"
    }
   },
   "outputs": [
    {
     "data": {
      "text/html": [
       "<div><div></div><div></div><div><strong>Installed Packages</strong><ul><li><span>XPlot.Plotly, 4.0.6</span></li></ul></div></div>"
      ]
     },
     "metadata": {},
     "output_type": "display_data"
    }
   ],
   "source": [
    "// c# plot the points using xplot\n",
    "\n",
    "#r \"nuget:XPlot.Plotly\""
   ]
  },
  {
   "cell_type": "code",
   "execution_count": 16,
   "metadata": {
    "dotnet_interactive": {
     "language": "csharp"
    },
    "polyglot_notebook": {
     "kernelName": "csharp"
    },
    "vscode": {
     "languageId": "polyglot-notebook"
    }
   },
   "outputs": [],
   "source": [
    "using XPlot.Plotly;\n",
    "\n",
    "public class Plot\n",
    "{\n",
    "    public static void ScatterPlot(IEnumerable<float> x, IEnumerable<float> y, string title = \"Scatter Plot\", string xTitle = \"X\", string yTitle = \"Y\")\n",
    "    {\n",
    "        var chart = Chart.Plot(\n",
    "            new Scatter\n",
    "            {\n",
    "                x = x,\n",
    "                y = y,\n",
    "                mode = \"lines+markers\"\n",
    "            }\n",
    "        );\n",
    "\n",
    "        var chart_layout = new Layout.Layout{\n",
    "            title=title,\n",
    "            xaxis =new Xaxis{\n",
    "                title = xTitle\n",
    "                },\n",
    "            yaxis =new Yaxis{\n",
    "            title = yTitle\n",
    "                }           \n",
    "            };\n",
    "\n",
    "        chart.WithLayout(chart_layout);\n",
    "        chart.Show();\n",
    "    }\n",
    "}\n"
   ]
  },
  {
   "attachments": {},
   "cell_type": "markdown",
   "metadata": {
    "dotnet_interactive": {
     "language": "csharp"
    },
    "polyglot_notebook": {
     "kernelName": "csharp"
    }
   },
   "source": [
    "...and here is the sample to process.."
   ]
  },
  {
   "cell_type": "code",
   "execution_count": 21,
   "metadata": {
    "dotnet_interactive": {
     "language": "csharp"
    },
    "polyglot_notebook": {
     "kernelName": "csharp"
    },
    "vscode": {
     "languageId": "polyglot-notebook"
    }
   },
   "outputs": [],
   "source": [
    "List<float> X = new List<float>();\n",
    "List<float> Y = new List<float>();\n",
    "\n",
    "var compute = new Compute2D();\n",
    "//var series = compute.SpiralPoints(5);            \n",
    "//var series = compute.SpiralPoints(new Vector2(0, 0), 1f, 3f);\n",
    "//var series = compute.SpiralPoints(new Vector2(-1.4f, -1.4f), 0.7f, 3.1f);\n",
    "var series = compute.SpiralPoints(new Vector2(1f, 4f), 1.7f, 6.1f);\n",
    "\n",
    "Plot.ScatterPlot(series.Select(x => x.X).ToList(), series.Select(x => x.Y).ToList(), \"Spiral Points\", \"X\", \"Y\" );"
   ]
  }
 ],
 "metadata": {
  "kernelspec": {
   "display_name": ".NET (C#)",
   "language": "C#",
   "name": ".net-csharp"
  },
  "polyglot_notebook": {
   "kernelInfo": {
    "defaultKernelName": "csharp",
    "items": [
     {
      "aliases": [
       "c#",
       "C#"
      ],
      "languageName": "C#",
      "name": "csharp"
     },
     {
      "aliases": [
       "frontend"
      ],
      "languageName": null,
      "name": "vscode"
     },
     {
      "aliases": [],
      "languageName": null,
      "name": ".NET"
     },
     {
      "aliases": [
       "f#",
       "F#"
      ],
      "languageName": "F#",
      "name": "fsharp"
     },
     {
      "aliases": [],
      "languageName": "HTML",
      "name": "html"
     },
     {
      "aliases": [
       "js"
      ],
      "languageName": "JavaScript",
      "name": "javascript"
     },
     {
      "aliases": [],
      "languageName": "KQL",
      "name": "kql"
     },
     {
      "aliases": [],
      "languageName": "Mermaid",
      "name": "mermaid"
     },
     {
      "aliases": [
       "powershell"
      ],
      "languageName": "PowerShell",
      "name": "pwsh"
     },
     {
      "aliases": [],
      "languageName": "SQL",
      "name": "sql"
     },
     {
      "aliases": [],
      "languageName": null,
      "name": "value"
     },
     {
      "aliases": [],
      "name": "webview"
     }
    ]
   }
  }
 },
 "nbformat": 4,
 "nbformat_minor": 2
}
