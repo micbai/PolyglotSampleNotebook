{
 "cells": [
  {
   "attachments": {},
   "cell_type": "markdown",
   "metadata": {},
   "source": [
    "# XPlot.Ploty\n",
    "* [Getting started](https://developers.refinitiv.com/en/article-catalog/article/getting-started-with-c--dataframe-and-xplot-ploty)\n",
    "* [how...](https://www.bing.com/search?q=use+xplot+offline&cvid=3f225d8af7a14ff692aedbc0fda36f7c&aqs=edge..69i57.7312j0j1&pglt=131&FORM=ANNTA1&PC=W046)"
   ]
  },
  {
   "cell_type": "code",
   "execution_count": null,
   "metadata": {
    "dotnet_interactive": {
     "language": "csharp"
    },
    "polyglot_notebook": {
     "kernelName": "csharp"
    }
   },
   "outputs": [],
   "source": [
    "#r \"nuget:XPlot.Plotly\"\n",
    "#r \"nuget:Microsoft.Data.Analysis\"\n",
    "\n",
    "using System.IO;\n",
    "using XPlot.Plotly;\n",
    "using Microsoft.Data.Analysis;\n",
    "using System.Linq;\n",
    "using Microsoft.AspNetCore.Html;\n"
   ]
  },
  {
   "cell_type": "code",
   "execution_count": null,
   "metadata": {
    "dotnet_interactive": {
     "language": "csharp"
    },
    "polyglot_notebook": {
     "kernelName": "csharp"
    }
   },
   "outputs": [],
   "source": [
    "var path = System.IO.Path.Combine(Directory.GetCurrentDirectory(), \"Data\",\"ohlcdata.csv\");\n",
    "var df1 = DataFrame.LoadCsv(path);\n",
    "Console.WriteLine(df1.Tail(5));"
   ]
  },
  {
   "cell_type": "code",
   "execution_count": null,
   "metadata": {
    "dotnet_interactive": {
     "language": "csharp"
    },
    "polyglot_notebook": {
     "kernelName": "csharp"
    }
   },
   "outputs": [],
   "source": [
    "var chart1 = Chart.Plot(\n",
    "    new Scatter\n",
    "    {\n",
    "        x = df1.Columns[\"Date\"],\n",
    "        y = df1.Columns[\"Open\"],        \n",
    "        mode = \"lines+markers\"\n",
    "    }\n",
    ");\n",
    "\n",
    "var chart1_layout = new Layout.Layout{\n",
    "    title=\"Open Price\",\n",
    "    xaxis =new Xaxis{\n",
    "        title = \"Date\"\n",
    "        },\n",
    "    yaxis =new Yaxis{\n",
    "    title = \"Price (USD)\"\n",
    "        }           \n",
    "    };\n",
    "chart1.WithLayout(chart1_layout);\n",
    "\n",
    "chart1.Show();"
   ]
  },
  {
   "cell_type": "code",
   "execution_count": null,
   "metadata": {
    "dotnet_interactive": {
     "language": "csharp"
    },
    "polyglot_notebook": {
     "kernelName": "csharp"
    }
   },
   "outputs": [],
   "source": [
    "var fig = Chart.Plot(\n",
    "    new List<Box>()\n",
    "{\n",
    "    new Box\n",
    "    {\n",
    "        y = df1.Columns[\"Open\"],\n",
    "        boxpoints = \"all\",\n",
    "        name = \"Open\"\n",
    "    },\n",
    "    new Box\n",
    "    {\n",
    "        y = df1.Columns[\"High\"],\n",
    "        boxpoints = \"all\",\n",
    "        name = \"High\"\n",
    "    },\n",
    "    new Box\n",
    "    {\n",
    "        y = df1.Columns[\"Low\"],\n",
    "        boxpoints = \"all\",\n",
    "        name = \"Low\"\n",
    "    },\n",
    "    new Box\n",
    "    {\n",
    "        y = df1.Columns[\"Close\"],\n",
    "        boxpoints = \"all\",\n",
    "        name = \"Close\"\n",
    "    }\n",
    "});\n",
    "\n",
    "var fig_layout = new Layout.Layout{\n",
    "    title=\"Box Plot\",\n",
    "    xaxis =new Xaxis{\n",
    "        title = \"Date\"\n",
    "        },\n",
    "    yaxis =new Yaxis{\n",
    "    title = \"Price (USD)\"\n",
    "        }           \n",
    "    };\n",
    "\n",
    "fig.WithLayout(fig_layout);\n",
    "fig.Show();\n"
   ]
  },
  {
   "cell_type": "code",
   "execution_count": null,
   "metadata": {
    "dotnet_interactive": {
     "language": "csharp"
    },
    "polyglot_notebook": {
     "kernelName": "csharp"
    }
   },
   "outputs": [],
   "source": [
    "var fig = Chart.Plot(\n",
    "    new List<Histogram>()\n",
    "    {\n",
    "        new Histogram ()\n",
    "        {\n",
    "            x = df1.Columns[\"Close\"],\n",
    "            name = \"Close\",\n",
    "            opacity = 0.5\n",
    "        },\n",
    "        new Histogram ()\n",
    "        {\n",
    "            x = df1.Columns[\"Open\"],\n",
    "            name = \"Open\",\n",
    "            opacity = 0.5\n",
    "        },\n",
    "    }\n",
    ");\n",
    "\n",
    "var fig_layout = new Layout.Layout{\n",
    "    title=\"Histogram\",\n",
    "    barmode = \"overlay\",\n",
    "    };\n",
    "\n",
    "fig.WithLayout(fig_layout);\n",
    "fig.Show();"
   ]
  }
 ],
 "metadata": {
  "kernelspec": {
   "display_name": ".NET (C#)",
   "language": "C#",
   "name": ".net-csharp"
  },
  "language_info": {
   "name": "polyglot-notebook"
  },
  "polyglot_notebook": {
   "kernelInfo": {
    "defaultKernelName": "csharp",
    "items": [
     {
      "aliases": [],
      "name": ".NET"
     },
     {
      "aliases": [
       "C#",
       "c#"
      ],
      "languageName": "C#",
      "name": "csharp"
     },
     {
      "aliases": [
       "F#",
       "f#"
      ],
      "languageName": "F#",
      "name": "fsharp"
     },
     {
      "aliases": [],
      "languageName": "HTML",
      "name": "html"
     },
     {
      "aliases": [
       "js"
      ],
      "languageName": "JavaScript",
      "name": "javascript"
     },
     {
      "aliases": [],
      "languageName": "KQL",
      "name": "kql"
     },
     {
      "aliases": [],
      "languageName": "Mermaid",
      "name": "mermaid"
     },
     {
      "aliases": [
       "powershell"
      ],
      "languageName": "PowerShell",
      "name": "pwsh"
     },
     {
      "aliases": [],
      "languageName": "SQL",
      "name": "sql"
     },
     {
      "aliases": [],
      "name": "value"
     },
     {
      "aliases": [
       "frontend"
      ],
      "name": "vscode"
     },
     {
      "aliases": [],
      "name": "webview"
     }
    ]
   }
  }
 },
 "nbformat": 4,
 "nbformat_minor": 2
}
