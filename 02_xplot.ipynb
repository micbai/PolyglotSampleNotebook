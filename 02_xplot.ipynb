{
 "cells": [
  {
   "attachments": {},
   "cell_type": "markdown",
   "metadata": {},
   "source": [
    "# XPlot.Ploty\n",
    "* [Getting started](https://developers.refinitiv.com/en/article-catalog/article/getting-started-with-c--dataframe-and-xplot-ploty)\n",
    "* [how...](https://www.bing.com/search?q=use+xplot+offline&cvid=3f225d8af7a14ff692aedbc0fda36f7c&aqs=edge..69i57.7312j0j1&pglt=131&FORM=ANNTA1&PC=W046)"
   ]
  },
  {
   "cell_type": "code",
   "execution_count": 2,
   "metadata": {
    "dotnet_interactive": {
     "language": "csharp"
    },
    "polyglot_notebook": {
     "kernelName": "csharp"
    }
   },
   "outputs": [
    {
     "data": {
      "text/html": [
       "<div><div></div><div></div><div><strong>Installed Packages</strong><ul><li><span>Microsoft.Data.Analysis, 0.20.1</span></li><li><span>XPlot.Plotly, 4.0.6</span></li></ul></div></div>"
      ]
     },
     "metadata": {},
     "output_type": "display_data"
    },
    {
     "data": {
      "text/plain": [
       "Loading extensions from `C:\\Users\\micha\\.nuget\\packages\\microsoft.data.analysis\\0.20.1\\interactive-extensions\\dotnet\\Microsoft.Data.Analysis.Interactive.dll`"
      ]
     },
     "metadata": {},
     "output_type": "display_data"
    }
   ],
   "source": [
    "#r \"nuget:XPlot.Plotly\"\n",
    "#r \"nuget:Microsoft.Data.Analysis\"\n",
    "\n",
    "using XPlot.Plotly;\n",
    "using Microsoft.Data.Analysis;\n",
    "using System.Linq;\n",
    "using Microsoft.AspNetCore.Html;\n"
   ]
  },
  {
   "cell_type": "code",
   "execution_count": 4,
   "metadata": {
    "dotnet_interactive": {
     "language": "csharp"
    },
    "polyglot_notebook": {
     "kernelName": "csharp"
    }
   },
   "outputs": [
    {
     "data": {
      "text/html": [
       "<table id=\"table_638147448298783112\"><caption><h3 style=\"text-align: center;\">DataFrame - 61 rows </h3></caption><thead><tr><th><i>index</i></th><th>Date</th><th>Open</th><th>High</th><th>Low</th><th>Close</th><th>Volume</th><th>Adj Close</th></tr></thead><tbody><tr style=\"display: none\"><td><i><div class=\"dni-plaintext\"><pre>0</pre></div></i></td><td><span>2009-03-31 00:00:00Z</span></td><td><div class=\"dni-plaintext\"><pre>1783</pre></div></td><td><div class=\"dni-plaintext\"><pre>1879</pre></div></td><td><div class=\"dni-plaintext\"><pre>1778</pre></div></td><td><div class=\"dni-plaintext\"><pre>1837</pre></div></td><td><div class=\"dni-plaintext\"><pre>92095500</pre></div></td><td><div class=\"dni-plaintext\"><pre>1781</pre></div></td></tr><tr style=\"display: none\"><td><i><div class=\"dni-plaintext\"><pre>1</pre></div></i></td><td><span>2009-03-30 00:00:00Z</span></td><td><div class=\"dni-plaintext\"><pre>1774</pre></div></td><td><div class=\"dni-plaintext\"><pre>1776</pre></div></td><td><div class=\"dni-plaintext\"><pre>1727</pre></div></td><td><div class=\"dni-plaintext\"><pre>1748</pre></div></td><td><div class=\"dni-plaintext\"><pre>49633000</pre></div></td><td><div class=\"dni-plaintext\"><pre>1695</pre></div></td></tr><tr style=\"display: none\"><td><i><div class=\"dni-plaintext\"><pre>2</pre></div></i></td><td><span>2009-03-27 00:00:00Z</span></td><td><div class=\"dni-plaintext\"><pre>1854</pre></div></td><td><div class=\"dni-plaintext\"><pre>1862</pre></div></td><td><div class=\"dni-plaintext\"><pre>1805</pre></div></td><td><div class=\"dni-plaintext\"><pre>1813</pre></div></td><td><div class=\"dni-plaintext\"><pre>47670400</pre></div></td><td><div class=\"dni-plaintext\"><pre>1758</pre></div></td></tr><tr style=\"display: none\"><td><i><div class=\"dni-plaintext\"><pre>3</pre></div></i></td><td><span>2009-03-26 00:00:00Z</span></td><td><div class=\"dni-plaintext\"><pre>1817</pre></div></td><td><div class=\"dni-plaintext\"><pre>1888</pre></div></td><td><div class=\"dni-plaintext\"><pre>1812</pre></div></td><td><div class=\"dni-plaintext\"><pre>1883</pre></div></td><td><div class=\"dni-plaintext\"><pre>63775100</pre></div></td><td><div class=\"dni-plaintext\"><pre>1826</pre></div></td></tr><tr style=\"display: none\"><td><i><div class=\"dni-plaintext\"><pre>4</pre></div></i></td><td><span>2009-03-25 00:00:00Z</span></td><td><div class=\"dni-plaintext\"><pre>1798</pre></div></td><td><div class=\"dni-plaintext\"><pre>1831</pre></div></td><td><div class=\"dni-plaintext\"><pre>1752</pre></div></td><td><div class=\"dni-plaintext\"><pre>1788</pre></div></td><td><div class=\"dni-plaintext\"><pre>73927100</pre></div></td><td><div class=\"dni-plaintext\"><pre>1734</pre></div></td></tr><tr style=\"display: none\"><td><i><div class=\"dni-plaintext\"><pre>5</pre></div></i></td><td><span>2009-03-24 00:00:00Z</span></td><td><div class=\"dni-plaintext\"><pre>1804</pre></div></td><td><div class=\"dni-plaintext\"><pre>1821</pre></div></td><td><div class=\"dni-plaintext\"><pre>1784</pre></div></td><td><div class=\"dni-plaintext\"><pre>1793</pre></div></td><td><div class=\"dni-plaintext\"><pre>50044100</pre></div></td><td><div class=\"dni-plaintext\"><pre>1739</pre></div></td></tr><tr style=\"display: none\"><td><i><div class=\"dni-plaintext\"><pre>6</pre></div></i></td><td><span>2009-03-23 00:00:00Z</span></td><td><div class=\"dni-plaintext\"><pre>1737</pre></div></td><td><div class=\"dni-plaintext\"><pre>1859</pre></div></td><td><div class=\"dni-plaintext\"><pre>1731</pre></div></td><td><div class=\"dni-plaintext\"><pre>1833</pre></div></td><td><div class=\"dni-plaintext\"><pre>71600000</pre></div></td><td><div class=\"dni-plaintext\"><pre>1777</pre></div></td></tr><tr style=\"display: none\"><td><i><div class=\"dni-plaintext\"><pre>7</pre></div></i></td><td><span>2009-03-20 00:00:00Z</span></td><td><div class=\"dni-plaintext\"><pre>1732</pre></div></td><td><div class=\"dni-plaintext\"><pre>1765</pre></div></td><td><div class=\"dni-plaintext\"><pre>1688</pre></div></td><td><div class=\"dni-plaintext\"><pre>1706</pre></div></td><td><div class=\"dni-plaintext\"><pre>81725500</pre></div></td><td><div class=\"dni-plaintext\"><pre>1654</pre></div></td></tr><tr style=\"display: none\"><td><i><div class=\"dni-plaintext\"><pre>8</pre></div></i></td><td><span>2009-03-19 00:00:00Z</span></td><td><div class=\"dni-plaintext\"><pre>1737</pre></div></td><td><div class=\"dni-plaintext\"><pre>1745</pre></div></td><td><div class=\"dni-plaintext\"><pre>1692</pre></div></td><td><div class=\"dni-plaintext\"><pre>1714</pre></div></td><td><div class=\"dni-plaintext\"><pre>58994600</pre></div></td><td><div class=\"dni-plaintext\"><pre>1662</pre></div></td></tr><tr style=\"display: none\"><td><i><div class=\"dni-plaintext\"><pre>9</pre></div></i></td><td><span>2009-03-18 00:00:00Z</span></td><td><div class=\"dni-plaintext\"><pre>1703</pre></div></td><td><div class=\"dni-plaintext\"><pre>1722</pre></div></td><td><div class=\"dni-plaintext\"><pre>1660</pre></div></td><td><div class=\"dni-plaintext\"><pre>1696</pre></div></td><td><div class=\"dni-plaintext\"><pre>70710700</pre></div></td><td><div class=\"dni-plaintext\"><pre>1645</pre></div></td></tr><tr style=\"display: none\"><td><i><div class=\"dni-plaintext\"><pre>10</pre></div></i></td><td><span>2009-03-17 00:00:00Z</span></td><td><div class=\"dni-plaintext\"><pre>1632</pre></div></td><td><div class=\"dni-plaintext\"><pre>1690</pre></div></td><td><div class=\"dni-plaintext\"><pre>1626</pre></div></td><td><div class=\"dni-plaintext\"><pre>1690</pre></div></td><td><div class=\"dni-plaintext\"><pre>62481000</pre></div></td><td><div class=\"dni-plaintext\"><pre>1639</pre></div></td></tr><tr style=\"display: none\"><td><i><div class=\"dni-plaintext\"><pre>11</pre></div></i></td><td><span>2009-03-16 00:00:00Z</span></td><td><div class=\"dni-plaintext\"><pre>1682</pre></div></td><td><div class=\"dni-plaintext\"><pre>1696</pre></div></td><td><div class=\"dni-plaintext\"><pre>1624</pre></div></td><td><div class=\"dni-plaintext\"><pre>1625</pre></div></td><td><div class=\"dni-plaintext\"><pre>67028900</pre></div></td><td><div class=\"dni-plaintext\"><pre>1576</pre></div></td></tr><tr style=\"display: none\"><td><i><div class=\"dni-plaintext\"><pre>12</pre></div></i></td><td><span>2009-03-13 00:00:00Z</span></td><td><div class=\"dni-plaintext\"><pre>1698</pre></div></td><td><div class=\"dni-plaintext\"><pre>1705</pre></div></td><td><div class=\"dni-plaintext\"><pre>1618</pre></div></td><td><div class=\"dni-plaintext\"><pre>1665</pre></div></td><td><div class=\"dni-plaintext\"><pre>82965800</pre></div></td><td><div class=\"dni-plaintext\"><pre>1614</pre></div></td></tr><tr style=\"display: none\"><td><i><div class=\"dni-plaintext\"><pre>13</pre></div></i></td><td><span>2009-03-12 00:00:00Z</span></td><td><div class=\"dni-plaintext\"><pre>1701</pre></div></td><td><div class=\"dni-plaintext\"><pre>1704</pre></div></td><td><div class=\"dni-plaintext\"><pre>1648</pre></div></td><td><div class=\"dni-plaintext\"><pre>1701</pre></div></td><td><div class=\"dni-plaintext\"><pre>93694100</pre></div></td><td><div class=\"dni-plaintext\"><pre>1649</pre></div></td></tr><tr style=\"display: none\"><td><i><div class=\"dni-plaintext\"><pre>14</pre></div></i></td><td><span>2009-03-11 00:00:00Z</span></td><td><div class=\"dni-plaintext\"><pre>1663</pre></div></td><td><div class=\"dni-plaintext\"><pre>1720</pre></div></td><td><div class=\"dni-plaintext\"><pre>1643</pre></div></td><td><div class=\"dni-plaintext\"><pre>1711</pre></div></td><td><div class=\"dni-plaintext\"><pre>84522200</pre></div></td><td><div class=\"dni-plaintext\"><pre>1659</pre></div></td></tr><tr style=\"display: none\"><td><i><div class=\"dni-plaintext\"><pre>15</pre></div></i></td><td><span>2009-03-10 00:00:00Z</span></td><td><div class=\"dni-plaintext\"><pre>1537</pre></div></td><td><div class=\"dni-plaintext\"><pre>1662</pre></div></td><td><div class=\"dni-plaintext\"><pre>1525</pre></div></td><td><div class=\"dni-plaintext\"><pre>1648</pre></div></td><td><div class=\"dni-plaintext\"><pre>95184200</pre></div></td><td><div class=\"dni-plaintext\"><pre>1598</pre></div></td></tr><tr style=\"display: none\"><td><i><div class=\"dni-plaintext\"><pre>16</pre></div></i></td><td><span>2009-03-09 00:00:00Z</span></td><td><div class=\"dni-plaintext\"><pre>1520</pre></div></td><td><div class=\"dni-plaintext\"><pre>1574</pre></div></td><td><div class=\"dni-plaintext\"><pre>1510</pre></div></td><td><div class=\"dni-plaintext\"><pre>1515</pre></div></td><td><div class=\"dni-plaintext\"><pre>66479100</pre></div></td><td><div class=\"dni-plaintext\"><pre>1469</pre></div></td></tr><tr style=\"display: none\"><td><i><div class=\"dni-plaintext\"><pre>17</pre></div></i></td><td><span>2009-03-06 00:00:00Z</span></td><td><div class=\"dni-plaintext\"><pre>1535</pre></div></td><td><div class=\"dni-plaintext\"><pre>1562</pre></div></td><td><div class=\"dni-plaintext\"><pre>1487</pre></div></td><td><div class=\"dni-plaintext\"><pre>1528</pre></div></td><td><div class=\"dni-plaintext\"><pre>92821400</pre></div></td><td><div class=\"dni-plaintext\"><pre>1482</pre></div></td></tr><tr style=\"display: none\"><td><i><div class=\"dni-plaintext\"><pre>18</pre></div></i></td><td><span>2009-03-05 00:00:00Z</span></td><td><div class=\"dni-plaintext\"><pre>1586</pre></div></td><td><div class=\"dni-plaintext\"><pre>1588</pre></div></td><td><div class=\"dni-plaintext\"><pre>1527</pre></div></td><td><div class=\"dni-plaintext\"><pre>1527</pre></div></td><td><div class=\"dni-plaintext\"><pre>89708500</pre></div></td><td><div class=\"dni-plaintext\"><pre>1481</pre></div></td></tr><tr style=\"display: none\"><td><i><div class=\"dni-plaintext\"><pre>19</pre></div></i></td><td><span>2009-03-04 00:00:00Z</span></td><td><div class=\"dni-plaintext\"><pre>1612</pre></div></td><td><div class=\"dni-plaintext\"><pre>1640</pre></div></td><td><div class=\"dni-plaintext\"><pre>1589</pre></div></td><td><div class=\"dni-plaintext\"><pre>1612</pre></div></td><td><div class=\"dni-plaintext\"><pre>69285100</pre></div></td><td><div class=\"dni-plaintext\"><pre>1563</pre></div></td></tr><tr style=\"display: none\"><td><i><div class=\"dni-plaintext\"><pre>20</pre></div></i></td><td><span>2009-03-03 00:00:00Z</span></td><td><div class=\"dni-plaintext\"><pre>1603</pre></div></td><td><div class=\"dni-plaintext\"><pre>1624</pre></div></td><td><div class=\"dni-plaintext\"><pre>1564</pre></div></td><td><div class=\"dni-plaintext\"><pre>1588</pre></div></td><td><div class=\"dni-plaintext\"><pre>80476600</pre></div></td><td><div class=\"dni-plaintext\"><pre>1540</pre></div></td></tr><tr style=\"display: none\"><td><i><div class=\"dni-plaintext\"><pre>21</pre></div></i></td><td><span>2009-03-02 00:00:00Z</span></td><td><div class=\"dni-plaintext\"><pre>1596</pre></div></td><td><div class=\"dni-plaintext\"><pre>1625</pre></div></td><td><div class=\"dni-plaintext\"><pre>1572</pre></div></td><td><div class=\"dni-plaintext\"><pre>1579</pre></div></td><td><div class=\"dni-plaintext\"><pre>80602100</pre></div></td><td><div class=\"dni-plaintext\"><pre>1531</pre></div></td></tr><tr style=\"display: none\"><td><i><div class=\"dni-plaintext\"><pre>22</pre></div></i></td><td><span>2009-02-27 00:00:00Z</span></td><td><div class=\"dni-plaintext\"><pre>1629</pre></div></td><td><div class=\"dni-plaintext\"><pre>1652</pre></div></td><td><div class=\"dni-plaintext\"><pre>1610</pre></div></td><td><div class=\"dni-plaintext\"><pre>1615</pre></div></td><td><div class=\"dni-plaintext\"><pre>93428000</pre></div></td><td><div class=\"dni-plaintext\"><pre>1566</pre></div></td></tr><tr style=\"display: none\"><td><i><div class=\"dni-plaintext\"><pre>23</pre></div></i></td><td><span>2009-02-26 00:00:00Z</span></td><td><div class=\"dni-plaintext\"><pre>1705</pre></div></td><td><div class=\"dni-plaintext\"><pre>1708</pre></div></td><td><div class=\"dni-plaintext\"><pre>1642</pre></div></td><td><div class=\"dni-plaintext\"><pre>1642</pre></div></td><td><div class=\"dni-plaintext\"><pre>83219500</pre></div></td><td><div class=\"dni-plaintext\"><pre>1592</pre></div></td></tr><tr style=\"display: none\"><td><i><div class=\"dni-plaintext\"><pre>24</pre></div></i></td><td><span>2009-02-25 00:00:00Z</span></td><td><div class=\"dni-plaintext\"><pre>1701</pre></div></td><td><div class=\"dni-plaintext\"><pre>1724</pre></div></td><td><div class=\"dni-plaintext\"><pre>1646</pre></div></td><td><div class=\"dni-plaintext\"><pre>1696</pre></div></td><td><div class=\"dni-plaintext\"><pre>105894600</pre></div></td><td><div class=\"dni-plaintext\"><pre>1645</pre></div></td></tr><tr style=\"display: none\"><td><i><div class=\"dni-plaintext\"><pre>25</pre></div></i></td><td><span>2009-02-24 00:00:00Z</span></td><td><div class=\"dni-plaintext\"><pre>1703</pre></div></td><td><div class=\"dni-plaintext\"><pre>1735</pre></div></td><td><div class=\"dni-plaintext\"><pre>1636</pre></div></td><td><div class=\"dni-plaintext\"><pre>1717</pre></div></td><td><div class=\"dni-plaintext\"><pre>122674500</pre></div></td><td><div class=\"dni-plaintext\"><pre>1665</pre></div></td></tr><tr style=\"display: none\"><td><i><div class=\"dni-plaintext\"><pre>26</pre></div></i></td><td><span>2009-02-23 00:00:00Z</span></td><td><div class=\"dni-plaintext\"><pre>1802</pre></div></td><td><div class=\"dni-plaintext\"><pre>1815</pre></div></td><td><div class=\"dni-plaintext\"><pre>1716</pre></div></td><td><div class=\"dni-plaintext\"><pre>1721</pre></div></td><td><div class=\"dni-plaintext\"><pre>70803400</pre></div></td><td><div class=\"dni-plaintext\"><pre>1669</pre></div></td></tr><tr style=\"display: none\"><td><i><div class=\"dni-plaintext\"><pre>27</pre></div></i></td><td><span>2009-02-20 00:00:00Z</span></td><td><div class=\"dni-plaintext\"><pre>1777</pre></div></td><td><div class=\"dni-plaintext\"><pre>1819</pre></div></td><td><div class=\"dni-plaintext\"><pre>1766</pre></div></td><td><div class=\"dni-plaintext\"><pre>1800</pre></div></td><td><div class=\"dni-plaintext\"><pre>69413800</pre></div></td><td><div class=\"dni-plaintext\"><pre>1745</pre></div></td></tr><tr style=\"display: none\"><td><i><div class=\"dni-plaintext\"><pre>28</pre></div></i></td><td><span>2009-02-19 00:00:00Z</span></td><td><div class=\"dni-plaintext\"><pre>1830</pre></div></td><td><div class=\"dni-plaintext\"><pre>1838</pre></div></td><td><div class=\"dni-plaintext\"><pre>1781</pre></div></td><td><div class=\"dni-plaintext\"><pre>1791</pre></div></td><td><div class=\"dni-plaintext\"><pre>49195600</pre></div></td><td><div class=\"dni-plaintext\"><pre>1737</pre></div></td></tr><tr style=\"display: none\"><td><i><div class=\"dni-plaintext\"><pre>29</pre></div></i></td><td><span>2009-02-18 00:00:00Z</span></td><td><div class=\"dni-plaintext\"><pre>1822</pre></div></td><td><div class=\"dni-plaintext\"><pre>1845</pre></div></td><td><div class=\"dni-plaintext\"><pre>1800</pre></div></td><td><div class=\"dni-plaintext\"><pre>1812</pre></div></td><td><div class=\"dni-plaintext\"><pre>54946900</pre></div></td><td><div class=\"dni-plaintext\"><pre>1757</pre></div></td></tr><tr style=\"display: none\"><td><i><div class=\"dni-plaintext\"><pre>30</pre></div></i></td><td><span>2009-02-17 00:00:00Z</span></td><td><div class=\"dni-plaintext\"><pre>1849</pre></div></td><td><div class=\"dni-plaintext\"><pre>1850</pre></div></td><td><div class=\"dni-plaintext\"><pre>1789</pre></div></td><td><div class=\"dni-plaintext\"><pre>1809</pre></div></td><td><div class=\"dni-plaintext\"><pre>75853300</pre></div></td><td><div class=\"dni-plaintext\"><pre>1754</pre></div></td></tr><tr style=\"display: none\"><td><i><div class=\"dni-plaintext\"><pre>31</pre></div></i></td><td><span>2009-02-13 00:00:00Z</span></td><td><div class=\"dni-plaintext\"><pre>1927</pre></div></td><td><div class=\"dni-plaintext\"><pre>1947</pre></div></td><td><div class=\"dni-plaintext\"><pre>1904</pre></div></td><td><div class=\"dni-plaintext\"><pre>1909</pre></div></td><td><div class=\"dni-plaintext\"><pre>47416000</pre></div></td><td><div class=\"dni-plaintext\"><pre>1838</pre></div></td></tr><tr style=\"display: none\"><td><i><div class=\"dni-plaintext\"><pre>32</pre></div></i></td><td><span>2009-02-12 00:00:00Z</span></td><td><div class=\"dni-plaintext\"><pre>1897</pre></div></td><td><div class=\"dni-plaintext\"><pre>1932</pre></div></td><td><div class=\"dni-plaintext\"><pre>1854</pre></div></td><td><div class=\"dni-plaintext\"><pre>1926</pre></div></td><td><div class=\"dni-plaintext\"><pre>75323200</pre></div></td><td><div class=\"dni-plaintext\"><pre>1855</pre></div></td></tr><tr style=\"display: none\"><td><i><div class=\"dni-plaintext\"><pre>33</pre></div></i></td><td><span>2009-02-11 00:00:00Z</span></td><td><div class=\"dni-plaintext\"><pre>1894</pre></div></td><td><div class=\"dni-plaintext\"><pre>1949</pre></div></td><td><div class=\"dni-plaintext\"><pre>1892</pre></div></td><td><div class=\"dni-plaintext\"><pre>1921</pre></div></td><td><div class=\"dni-plaintext\"><pre>58599000</pre></div></td><td><div class=\"dni-plaintext\"><pre>1850</pre></div></td></tr><tr style=\"display: none\"><td><i><div class=\"dni-plaintext\"><pre>34</pre></div></i></td><td><span>2009-02-10 00:00:00Z</span></td><td><div class=\"dni-plaintext\"><pre>1925</pre></div></td><td><div class=\"dni-plaintext\"><pre>1980</pre></div></td><td><div class=\"dni-plaintext\"><pre>1870</pre></div></td><td><div class=\"dni-plaintext\"><pre>1880</pre></div></td><td><div class=\"dni-plaintext\"><pre>83953200</pre></div></td><td><div class=\"dni-plaintext\"><pre>1810</pre></div></td></tr><tr style=\"display: none\"><td><i><div class=\"dni-plaintext\"><pre>35</pre></div></i></td><td><span>2009-02-09 00:00:00Z</span></td><td><div class=\"dni-plaintext\"><pre>1964</pre></div></td><td><div class=\"dni-plaintext\"><pre>1977</pre></div></td><td><div class=\"dni-plaintext\"><pre>1926</pre></div></td><td><div class=\"dni-plaintext\"><pre>1944</pre></div></td><td><div class=\"dni-plaintext\"><pre>52196400</pre></div></td><td><div class=\"dni-plaintext\"><pre>1872</pre></div></td></tr><tr style=\"display: none\"><td><i><div class=\"dni-plaintext\"><pre>36</pre></div></i></td><td><span>2009-02-06 00:00:00Z</span></td><td><div class=\"dni-plaintext\"><pre>1916</pre></div></td><td><div class=\"dni-plaintext\"><pre>1993</pre></div></td><td><div class=\"dni-plaintext\"><pre>1906</pre></div></td><td><div class=\"dni-plaintext\"><pre>1966</pre></div></td><td><div class=\"dni-plaintext\"><pre>86746000</pre></div></td><td><div class=\"dni-plaintext\"><pre>1893</pre></div></td></tr><tr style=\"display: none\"><td><i><div class=\"dni-plaintext\"><pre>37</pre></div></i></td><td><span>2009-02-05 00:00:00Z</span></td><td><div class=\"dni-plaintext\"><pre>1851</pre></div></td><td><div class=\"dni-plaintext\"><pre>1914</pre></div></td><td><div class=\"dni-plaintext\"><pre>1825</pre></div></td><td><div class=\"dni-plaintext\"><pre>1904</pre></div></td><td><div class=\"dni-plaintext\"><pre>75195200</pre></div></td><td><div class=\"dni-plaintext\"><pre>1834</pre></div></td></tr><tr style=\"display: none\"><td><i><div class=\"dni-plaintext\"><pre>38</pre></div></i></td><td><span>2009-02-04 00:00:00Z</span></td><td><div class=\"dni-plaintext\"><pre>1854</pre></div></td><td><div class=\"dni-plaintext\"><pre>1900</pre></div></td><td><div class=\"dni-plaintext\"><pre>1850</pre></div></td><td><div class=\"dni-plaintext\"><pre>1863</pre></div></td><td><div class=\"dni-plaintext\"><pre>75618000</pre></div></td><td><div class=\"dni-plaintext\"><pre>1794</pre></div></td></tr><tr style=\"display: none\"><td><i><div class=\"dni-plaintext\"><pre>39</pre></div></i></td><td><span>2009-02-03 00:00:00Z</span></td><td><div class=\"dni-plaintext\"><pre>1785</pre></div></td><td><div class=\"dni-plaintext\"><pre>1861</pre></div></td><td><div class=\"dni-plaintext\"><pre>1760</pre></div></td><td><div class=\"dni-plaintext\"><pre>1850</pre></div></td><td><div class=\"dni-plaintext\"><pre>86865100</pre></div></td><td><div class=\"dni-plaintext\"><pre>1782</pre></div></td></tr><tr style=\"display: none\"><td><i><div class=\"dni-plaintext\"><pre>40</pre></div></i></td><td><span>2009-02-02 00:00:00Z</span></td><td><div class=\"dni-plaintext\"><pre>1703</pre></div></td><td><div class=\"dni-plaintext\"><pre>1813</pre></div></td><td><div class=\"dni-plaintext\"><pre>1700</pre></div></td><td><div class=\"dni-plaintext\"><pre>1783</pre></div></td><td><div class=\"dni-plaintext\"><pre>88871700</pre></div></td><td><div class=\"dni-plaintext\"><pre>1717</pre></div></td></tr><tr style=\"display: none\"><td><i><div class=\"dni-plaintext\"><pre>41</pre></div></i></td><td><span>2009-01-30 00:00:00Z</span></td><td><div class=\"dni-plaintext\"><pre>1774</pre></div></td><td><div class=\"dni-plaintext\"><pre>1779</pre></div></td><td><div class=\"dni-plaintext\"><pre>1710</pre></div></td><td><div class=\"dni-plaintext\"><pre>1710</pre></div></td><td><div class=\"dni-plaintext\"><pre>62370900</pre></div></td><td><div class=\"dni-plaintext\"><pre>1647</pre></div></td></tr><tr style=\"display: none\"><td><i><div class=\"dni-plaintext\"><pre>42</pre></div></i></td><td><span>2009-01-29 00:00:00Z</span></td><td><div class=\"dni-plaintext\"><pre>1778</pre></div></td><td><div class=\"dni-plaintext\"><pre>1796</pre></div></td><td><div class=\"dni-plaintext\"><pre>1756</pre></div></td><td><div class=\"dni-plaintext\"><pre>1759</pre></div></td><td><div class=\"dni-plaintext\"><pre>49192800</pre></div></td><td><div class=\"dni-plaintext\"><pre>1694</pre></div></td></tr><tr style=\"display: none\"><td><i><div class=\"dni-plaintext\"><pre>43</pre></div></i></td><td><span>2009-01-28 00:00:00Z</span></td><td><div class=\"dni-plaintext\"><pre>1780</pre></div></td><td><div class=\"dni-plaintext\"><pre>1831</pre></div></td><td><div class=\"dni-plaintext\"><pre>1776</pre></div></td><td><div class=\"dni-plaintext\"><pre>1804</pre></div></td><td><div class=\"dni-plaintext\"><pre>64145500</pre></div></td><td><div class=\"dni-plaintext\"><pre>1737</pre></div></td></tr><tr style=\"display: none\"><td><i><div class=\"dni-plaintext\"><pre>44</pre></div></i></td><td><span>2009-01-27 00:00:00Z</span></td><td><div class=\"dni-plaintext\"><pre>1778</pre></div></td><td><div class=\"dni-plaintext\"><pre>1797</pre></div></td><td><div class=\"dni-plaintext\"><pre>1743</pre></div></td><td><div class=\"dni-plaintext\"><pre>1766</pre></div></td><td><div class=\"dni-plaintext\"><pre>61695000</pre></div></td><td><div class=\"dni-plaintext\"><pre>1701</pre></div></td></tr><tr style=\"display: none\"><td><i><div class=\"dni-plaintext\"><pre>45</pre></div></i></td><td><span>2009-01-26 00:00:00Z</span></td><td><div class=\"dni-plaintext\"><pre>1729</pre></div></td><td><div class=\"dni-plaintext\"><pre>1781</pre></div></td><td><div class=\"dni-plaintext\"><pre>1723</pre></div></td><td><div class=\"dni-plaintext\"><pre>1763</pre></div></td><td><div class=\"dni-plaintext\"><pre>92476500</pre></div></td><td><div class=\"dni-plaintext\"><pre>1698</pre></div></td></tr><tr style=\"display: none\"><td><i><div class=\"dni-plaintext\"><pre>46</pre></div></i></td><td><span>2009-01-23 00:00:00Z</span></td><td><div class=\"dni-plaintext\"><pre>1697</pre></div></td><td><div class=\"dni-plaintext\"><pre>1749</pre></div></td><td><div class=\"dni-plaintext\"><pre>1675</pre></div></td><td><div class=\"dni-plaintext\"><pre>1720</pre></div></td><td><div class=\"dni-plaintext\"><pre>117020600</pre></div></td><td><div class=\"dni-plaintext\"><pre>1656</pre></div></td></tr><tr style=\"display: none\"><td><i><div class=\"dni-plaintext\"><pre>47</pre></div></i></td><td><span>2009-01-22 00:00:00Z</span></td><td><div class=\"dni-plaintext\"><pre>1805</pre></div></td><td><div class=\"dni-plaintext\"><pre>1818</pre></div></td><td><div class=\"dni-plaintext\"><pre>1707</pre></div></td><td><div class=\"dni-plaintext\"><pre>1711</pre></div></td><td><div class=\"dni-plaintext\"><pre>222436600</pre></div></td><td><div class=\"dni-plaintext\"><pre>1648</pre></div></td></tr><tr style=\"display: none\"><td><i><div class=\"dni-plaintext\"><pre>48</pre></div></i></td><td><span>2009-01-21 00:00:00Z</span></td><td><div class=\"dni-plaintext\"><pre>1887</pre></div></td><td><div class=\"dni-plaintext\"><pre>1945</pre></div></td><td><div class=\"dni-plaintext\"><pre>1846</pre></div></td><td><div class=\"dni-plaintext\"><pre>1938</pre></div></td><td><div class=\"dni-plaintext\"><pre>68340900</pre></div></td><td><div class=\"dni-plaintext\"><pre>1866</pre></div></td></tr><tr style=\"display: none\"><td><i><div class=\"dni-plaintext\"><pre>49</pre></div></i></td><td><span>2009-01-20 00:00:00Z</span></td><td><div class=\"dni-plaintext\"><pre>1946</pre></div></td><td><div class=\"dni-plaintext\"><pre>1962</pre></div></td><td><div class=\"dni-plaintext\"><pre>1837</pre></div></td><td><div class=\"dni-plaintext\"><pre>1848</pre></div></td><td><div class=\"dni-plaintext\"><pre>89873000</pre></div></td><td><div class=\"dni-plaintext\"><pre>1780</pre></div></td></tr><tr style=\"display: none\"><td><i><div class=\"dni-plaintext\"><pre>50</pre></div></i></td><td><span>2009-01-16 00:00:00Z</span></td><td><div class=\"dni-plaintext\"><pre>1963</pre></div></td><td><div class=\"dni-plaintext\"><pre>1991</pre></div></td><td><div class=\"dni-plaintext\"><pre>1915</pre></div></td><td><div class=\"dni-plaintext\"><pre>1971</pre></div></td><td><div class=\"dni-plaintext\"><pre>79634100</pre></div></td><td><div class=\"dni-plaintext\"><pre>1898</pre></div></td></tr><tr style=\"display: none\"><td><i><div class=\"dni-plaintext\"><pre>51</pre></div></i></td><td><span>2009-01-15 00:00:00Z</span></td><td><div class=\"dni-plaintext\"><pre>1907</pre></div></td><td><div class=\"dni-plaintext\"><pre>1930</pre></div></td><td><div class=\"dni-plaintext\"><pre>1852</pre></div></td><td><div class=\"dni-plaintext\"><pre>1924</pre></div></td><td><div class=\"dni-plaintext\"><pre>96169800</pre></div></td><td><div class=\"dni-plaintext\"><pre>1853</pre></div></td></tr><tr style=\"display: none\"><td><i><div class=\"dni-plaintext\"><pre>52</pre></div></i></td><td><span>2009-01-14 00:00:00Z</span></td><td><div class=\"dni-plaintext\"><pre>1953</pre></div></td><td><div class=\"dni-plaintext\"><pre>1968</pre></div></td><td><div class=\"dni-plaintext\"><pre>1901</pre></div></td><td><div class=\"dni-plaintext\"><pre>1909</pre></div></td><td><div class=\"dni-plaintext\"><pre>80257500</pre></div></td><td><div class=\"dni-plaintext\"><pre>1838</pre></div></td></tr><tr style=\"display: none\"><td><i><div class=\"dni-plaintext\"><pre>53</pre></div></i></td><td><span>2009-01-13 00:00:00Z</span></td><td><div class=\"dni-plaintext\"><pre>1952</pre></div></td><td><div class=\"dni-plaintext\"><pre>1999</pre></div></td><td><div class=\"dni-plaintext\"><pre>1952</pre></div></td><td><div class=\"dni-plaintext\"><pre>1982</pre></div></td><td><div class=\"dni-plaintext\"><pre>65843500</pre></div></td><td><div class=\"dni-plaintext\"><pre>1909</pre></div></td></tr><tr style=\"display: none\"><td><i><div class=\"dni-plaintext\"><pre>54</pre></div></i></td><td><span>2009-01-12 00:00:00Z</span></td><td><div class=\"dni-plaintext\"><pre>1971</pre></div></td><td><div class=\"dni-plaintext\"><pre>1979</pre></div></td><td><div class=\"dni-plaintext\"><pre>1930</pre></div></td><td><div class=\"dni-plaintext\"><pre>1947</pre></div></td><td><div class=\"dni-plaintext\"><pre>52163500</pre></div></td><td><div class=\"dni-plaintext\"><pre>1875</pre></div></td></tr><tr style=\"display: none\"><td><i><div class=\"dni-plaintext\"><pre>55</pre></div></i></td><td><span>2009-01-09 00:00:00Z</span></td><td><div class=\"dni-plaintext\"><pre>2017</pre></div></td><td><div class=\"dni-plaintext\"><pre>2030</pre></div></td><td><div class=\"dni-plaintext\"><pre>1941</pre></div></td><td><div class=\"dni-plaintext\"><pre>1952</pre></div></td><td><div class=\"dni-plaintext\"><pre>49815300</pre></div></td><td><div class=\"dni-plaintext\"><pre>1880</pre></div></td></tr><tr style=\"display: none\"><td><i><div class=\"dni-plaintext\"><pre>56</pre></div></i></td><td><span>2009-01-08 00:00:00Z</span></td><td><div class=\"dni-plaintext\"><pre>1963</pre></div></td><td><div class=\"dni-plaintext\"><pre>2019</pre></div></td><td><div class=\"dni-plaintext\"><pre>1955</pre></div></td><td><div class=\"dni-plaintext\"><pre>2012</pre></div></td><td><div class=\"dni-plaintext\"><pre>70229900</pre></div></td><td><div class=\"dni-plaintext\"><pre>1938</pre></div></td></tr><tr style=\"display: none\"><td><i><div class=\"dni-plaintext\"><pre>57</pre></div></i></td><td><span>2009-01-07 00:00:00Z</span></td><td><div class=\"dni-plaintext\"><pre>2019</pre></div></td><td><div class=\"dni-plaintext\"><pre>2029</pre></div></td><td><div class=\"dni-plaintext\"><pre>1948</pre></div></td><td><div class=\"dni-plaintext\"><pre>1951</pre></div></td><td><div class=\"dni-plaintext\"><pre>72709900</pre></div></td><td><div class=\"dni-plaintext\"><pre>1879</pre></div></td></tr><tr style=\"display: none\"><td><i><div class=\"dni-plaintext\"><pre>58</pre></div></i></td><td><span>2009-01-06 00:00:00Z</span></td><td><div class=\"dni-plaintext\"><pre>2075</pre></div></td><td><div class=\"dni-plaintext\"><pre>2100</pre></div></td><td><div class=\"dni-plaintext\"><pre>2061</pre></div></td><td><div class=\"dni-plaintext\"><pre>2076</pre></div></td><td><div class=\"dni-plaintext\"><pre>58083400</pre></div></td><td><div class=\"dni-plaintext\"><pre>1999</pre></div></td></tr><tr style=\"display: none\"><td><i><div class=\"dni-plaintext\"><pre>59</pre></div></i></td><td><span>2009-01-05 00:00:00Z</span></td><td><div class=\"dni-plaintext\"><pre>2020</pre></div></td><td><div class=\"dni-plaintext\"><pre>2067</pre></div></td><td><div class=\"dni-plaintext\"><pre>2006</pre></div></td><td><div class=\"dni-plaintext\"><pre>2052</pre></div></td><td><div class=\"dni-plaintext\"><pre>61475200</pre></div></td><td><div class=\"dni-plaintext\"><pre>1976</pre></div></td></tr><tr style=\"display: none\"><td><i><div class=\"dni-plaintext\"><pre>60</pre></div></i></td><td><span>2009-01-02 00:00:00Z</span></td><td><div class=\"dni-plaintext\"><pre>1953</pre></div></td><td><div class=\"dni-plaintext\"><pre>2040</pre></div></td><td><div class=\"dni-plaintext\"><pre>1937</pre></div></td><td><div class=\"dni-plaintext\"><pre>2033</pre></div></td><td><div class=\"dni-plaintext\"><pre>50084000</pre></div></td><td><div class=\"dni-plaintext\"><pre>1958</pre></div></td></tr></tbody><tfoot><tr><td colspan=\"8\" style=\"text-align: center;\"><button style=\"margin: 2px;\" onclick=\"var allRows = document.querySelectorAll(&#39;#table_638147448298783112 tbody tr:nth-child(n)&#39;); for (let i = 0; i &lt; allRows.length; i++) { allRows[i].style.display=&#39;none&#39;; } document.querySelector(&#39;#page_638147448298783112&#39;).innerHTML = 1; var page = parseInt(document.querySelector(&#39;#page_638147448298783112&#39;).innerHTML) - 1; var pageRows = document.querySelectorAll(`#table_638147448298783112 tbody tr:nth-child(n + ${page * 25 + 1 })`); for (let j = 0; j &lt; 25; j++) { pageRows[j].style.display=&#39;table-row&#39;; } \">⏮</button><button style=\"margin: 2px;\" onclick=\"var allRows = document.querySelectorAll(&#39;#table_638147448298783112 tbody tr:nth-child(n)&#39;); for (let i = 0; i &lt; allRows.length; i++) { allRows[i].style.display=&#39;none&#39;; } var page = parseInt(document.querySelector(&#39;#page_638147448298783112&#39;).innerHTML) - 1; page = parseInt(page) + parseInt(-10); page = page &lt; 0 ? 0 : page; page = page > 2 ? 2 : page; document.querySelector(&#39;#page_638147448298783112&#39;).innerHTML = page + 1; var page = parseInt(document.querySelector(&#39;#page_638147448298783112&#39;).innerHTML) - 1; var pageRows = document.querySelectorAll(`#table_638147448298783112 tbody tr:nth-child(n + ${page * 25 + 1 })`); for (let j = 0; j &lt; 25; j++) { pageRows[j].style.display=&#39;table-row&#39;; } \">⏪</button><button style=\"margin: 2px;\" onclick=\"var allRows = document.querySelectorAll(&#39;#table_638147448298783112 tbody tr:nth-child(n)&#39;); for (let i = 0; i &lt; allRows.length; i++) { allRows[i].style.display=&#39;none&#39;; } var page = parseInt(document.querySelector(&#39;#page_638147448298783112&#39;).innerHTML) - 1; page = parseInt(page) + parseInt(-1); page = page &lt; 0 ? 0 : page; page = page > 2 ? 2 : page; document.querySelector(&#39;#page_638147448298783112&#39;).innerHTML = page + 1; var page = parseInt(document.querySelector(&#39;#page_638147448298783112&#39;).innerHTML) - 1; var pageRows = document.querySelectorAll(`#table_638147448298783112 tbody tr:nth-child(n + ${page * 25 + 1 })`); for (let j = 0; j &lt; 25; j++) { pageRows[j].style.display=&#39;table-row&#39;; } \">◀️</button><b style=\"margin: 2px;\">Page</b><b id=\"page_638147448298783112\" style=\"margin: 2px;\">1</b><button style=\"margin: 2px;\" onclick=\"var allRows = document.querySelectorAll(&#39;#table_638147448298783112 tbody tr:nth-child(n)&#39;); for (let i = 0; i &lt; allRows.length; i++) { allRows[i].style.display=&#39;none&#39;; } var page = parseInt(document.querySelector(&#39;#page_638147448298783112&#39;).innerHTML) - 1; page = parseInt(page) + parseInt(1); page = page &lt; 0 ? 0 : page; page = page > 2 ? 2 : page; document.querySelector(&#39;#page_638147448298783112&#39;).innerHTML = page + 1; var page = parseInt(document.querySelector(&#39;#page_638147448298783112&#39;).innerHTML) - 1; var pageRows = document.querySelectorAll(`#table_638147448298783112 tbody tr:nth-child(n + ${page * 25 + 1 })`); for (let j = 0; j &lt; 25; j++) { pageRows[j].style.display=&#39;table-row&#39;; } \">▶️</button><button style=\"margin: 2px;\" onclick=\"var allRows = document.querySelectorAll(&#39;#table_638147448298783112 tbody tr:nth-child(n)&#39;); for (let i = 0; i &lt; allRows.length; i++) { allRows[i].style.display=&#39;none&#39;; } var page = parseInt(document.querySelector(&#39;#page_638147448298783112&#39;).innerHTML) - 1; page = parseInt(page) + parseInt(10); page = page &lt; 0 ? 0 : page; page = page > 2 ? 2 : page; document.querySelector(&#39;#page_638147448298783112&#39;).innerHTML = page + 1; var page = parseInt(document.querySelector(&#39;#page_638147448298783112&#39;).innerHTML) - 1; var pageRows = document.querySelectorAll(`#table_638147448298783112 tbody tr:nth-child(n + ${page * 25 + 1 })`); for (let j = 0; j &lt; 25; j++) { pageRows[j].style.display=&#39;table-row&#39;; } \">⏩</button><button style=\"margin: 2px;\" onclick=\"var allRows = document.querySelectorAll(&#39;#table_638147448298783112 tbody tr:nth-child(n)&#39;); for (let i = 0; i &lt; allRows.length; i++) { allRows[i].style.display=&#39;none&#39;; } document.querySelector(&#39;#page_638147448298783112&#39;).innerHTML = 3; var page = parseInt(document.querySelector(&#39;#page_638147448298783112&#39;).innerHTML) - 1; var pageRows = document.querySelectorAll(`#table_638147448298783112 tbody tr:nth-child(n + ${page * 25 + 1 })`); for (let j = 0; j &lt; 25; j++) { pageRows[j].style.display=&#39;table-row&#39;; } \">⏭️</button></td></tr></tfoot></table><style>\r\n",
       ".dni-code-hint {\r\n",
       "    font-style: italic;\r\n",
       "    overflow: hidden;\r\n",
       "    white-space: nowrap;\r\n",
       "}\r\n",
       ".dni-treeview {\r\n",
       "    white-space: nowrap;\r\n",
       "}\r\n",
       ".dni-treeview td {\r\n",
       "    vertical-align: top;\r\n",
       "    text-align: start;\r\n",
       "}\r\n",
       "details.dni-treeview {\r\n",
       "    padding-left: 1em;\r\n",
       "}\r\n",
       "table td {\r\n",
       "    text-align: start;\r\n",
       "}\r\n",
       "table tr { \r\n",
       "    vertical-align: top; \r\n",
       "    margin: 0em 0px;\r\n",
       "}\r\n",
       "table tr td pre \r\n",
       "{ \r\n",
       "    vertical-align: top !important; \r\n",
       "    margin: 0em 0px !important;\r\n",
       "} \r\n",
       "table th {\r\n",
       "    text-align: start;\r\n",
       "}\r\n",
       "</style><script>var page = parseInt(document.querySelector('#page_638147448298783112').innerHTML) - 1; var pageRows = document.querySelectorAll(`#table_638147448298783112 tbody tr:nth-child(n + ${page * 25 + 1 })`); for (let j = 0; j < 25; j++) { pageRows[j].style.display='table-row'; } </script>"
      ]
     },
     "metadata": {},
     "output_type": "display_data"
    }
   ],
   "source": [
    "var df1 = DataFrame.LoadCsv(\"ohlcdata.csv\");\n",
    "df1"
   ]
  },
  {
   "cell_type": "code",
   "execution_count": 3,
   "metadata": {
    "dotnet_interactive": {
     "language": "csharp"
    },
    "polyglot_notebook": {
     "kernelName": "csharp"
    }
   },
   "outputs": [],
   "source": [
    "var chart1 = Chart.Plot(\n",
    "    new Scatter\n",
    "    {\n",
    "        x = df1.Columns[\"Date\"],\n",
    "        y = df1.Columns[\"Open\"],        \n",
    "        mode = \"lines+markers\"\n",
    "    }\n",
    ");\n",
    "\n",
    "var chart1_layout = new Layout.Layout{\n",
    "    title=\"Open Price\",\n",
    "    xaxis =new Xaxis{\n",
    "        title = \"Date\"\n",
    "        },\n",
    "    yaxis =new Yaxis{\n",
    "    title = \"Price (USD)\"\n",
    "        }           \n",
    "    };\n",
    "chart1.WithLayout(chart1_layout);\n",
    "\n",
    "chart1.Show();"
   ]
  },
  {
   "cell_type": "code",
   "execution_count": 10,
   "metadata": {
    "dotnet_interactive": {
     "language": "csharp"
    },
    "polyglot_notebook": {
     "kernelName": "csharp"
    }
   },
   "outputs": [],
   "source": [
    "var fig = Chart.Plot(\n",
    "    new List<Box>()\n",
    "{\n",
    "    new Box\n",
    "    {\n",
    "        y = df1.Columns[\"Open\"],\n",
    "        boxpoints = \"all\",\n",
    "        name = \"Open\"\n",
    "    },\n",
    "    new Box\n",
    "    {\n",
    "        y = df1.Columns[\"High\"],\n",
    "        boxpoints = \"all\",\n",
    "        name = \"High\"\n",
    "    },\n",
    "    new Box\n",
    "    {\n",
    "        y = df1.Columns[\"Low\"],\n",
    "        boxpoints = \"all\",\n",
    "        name = \"Low\"\n",
    "    },\n",
    "    new Box\n",
    "    {\n",
    "        y = df1.Columns[\"Close\"],\n",
    "        boxpoints = \"all\",\n",
    "        name = \"Close\"\n",
    "    }\n",
    "});\n",
    "\n",
    "var fig_layout = new Layout.Layout{\n",
    "    title=\"Box Plot\",\n",
    "    xaxis =new Xaxis{\n",
    "        title = \"Date\"\n",
    "        },\n",
    "    yaxis =new Yaxis{\n",
    "    title = \"Price (USD)\"\n",
    "        }           \n",
    "    };\n",
    "\n",
    "fig.WithLayout(fig_layout);\n",
    "fig.Show();\n"
   ]
  },
  {
   "cell_type": "code",
   "execution_count": 21,
   "metadata": {
    "dotnet_interactive": {
     "language": "csharp"
    },
    "polyglot_notebook": {
     "kernelName": "csharp"
    }
   },
   "outputs": [],
   "source": [
    "var fig = Chart.Plot(\n",
    "    new List<Histogram>()\n",
    "    {\n",
    "        new Histogram ()\n",
    "        {\n",
    "            x = df1.Columns[\"Close\"],\n",
    "            name = \"Close\",\n",
    "            opacity = 0.5\n",
    "        },\n",
    "        new Histogram ()\n",
    "        {\n",
    "            x = df1.Columns[\"Open\"],\n",
    "            name = \"Open\",\n",
    "            opacity = 0.5\n",
    "        },\n",
    "    }\n",
    ");\n",
    "\n",
    "var fig_layout = new Layout.Layout{\n",
    "    title=\"Histogram\",\n",
    "    barmode = \"overlay\",\n",
    "    };\n",
    "\n",
    "fig.WithLayout(fig_layout);\n",
    "fig.Show();"
   ]
  }
 ],
 "metadata": {
  "kernelspec": {
   "display_name": ".NET (C#)",
   "language": "C#",
   "name": ".net-csharp"
  },
  "language_info": {
   "name": "polyglot-notebook"
  },
  "polyglot_notebook": {
   "kernelInfo": {
    "defaultKernelName": "csharp",
    "items": [
     {
      "aliases": [],
      "name": ".NET"
     },
     {
      "aliases": [
       "C#",
       "c#"
      ],
      "languageName": "C#",
      "name": "csharp"
     },
     {
      "aliases": [
       "F#",
       "f#"
      ],
      "languageName": "F#",
      "name": "fsharp"
     },
     {
      "aliases": [],
      "languageName": "HTML",
      "name": "html"
     },
     {
      "aliases": [
       "js"
      ],
      "languageName": "JavaScript",
      "name": "javascript"
     },
     {
      "aliases": [],
      "languageName": "KQL",
      "name": "kql"
     },
     {
      "aliases": [],
      "languageName": "Mermaid",
      "name": "mermaid"
     },
     {
      "aliases": [
       "powershell"
      ],
      "languageName": "PowerShell",
      "name": "pwsh"
     },
     {
      "aliases": [],
      "languageName": "SQL",
      "name": "sql"
     },
     {
      "aliases": [],
      "name": "value"
     },
     {
      "aliases": [
       "frontend"
      ],
      "name": "vscode"
     },
     {
      "aliases": [],
      "name": "webview"
     }
    ]
   }
  }
 },
 "nbformat": 4,
 "nbformat_minor": 2
}
