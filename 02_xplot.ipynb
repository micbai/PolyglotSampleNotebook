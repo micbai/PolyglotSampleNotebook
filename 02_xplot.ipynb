{
 "cells": [
  {
   "attachments": {},
   "cell_type": "markdown",
   "metadata": {
    "dotnet_interactive": {
     "language": "csharp"
    },
    "polyglot_notebook": {
     "kernelName": "csharp"
    }
   },
   "source": [
    "# XPlot.Ploty\n",
    "* [Getting started](https://developers.refinitiv.com/en/article-catalog/article/getting-started-with-c--dataframe-and-xplot-ploty)\n",
    "* [how...](https://www.bing.com/search?q=use+xplot+offline&cvid=3f225d8af7a14ff692aedbc0fda36f7c&aqs=edge..69i57.7312j0j1&pglt=131&FORM=ANNTA1&PC=W046)"
   ]
  },
  {
   "cell_type": "code",
   "execution_count": 1,
   "metadata": {
    "dotnet_interactive": {
     "language": "csharp"
    },
    "polyglot_notebook": {
     "kernelName": "csharp"
    },
    "vscode": {
     "languageId": "polyglot-notebook"
    }
   },
   "outputs": [
    {
     "data": {
      "text/html": [
       "<div><div></div><div></div><div><strong>Installed Packages</strong><ul><li><span>Microsoft.Data.Analysis, 0.20.1</span></li><li><span>XPlot.Plotly, 4.0.6</span></li></ul></div></div>"
      ]
     },
     "metadata": {},
     "output_type": "display_data"
    },
    {
     "data": {
      "text/plain": [
       "Loading extensions from `C:\\Users\\micha\\.nuget\\packages\\microsoft.data.analysis\\0.20.1\\interactive-extensions\\dotnet\\Microsoft.Data.Analysis.Interactive.dll`"
      ]
     },
     "metadata": {},
     "output_type": "display_data"
    }
   ],
   "source": [
    "#r \"nuget:XPlot.Plotly\"\n",
    "#r \"nuget:Microsoft.Data.Analysis\"\n",
    "\n",
    "using XPlot.Plotly;\n",
    "using Microsoft.Data.Analysis;\n",
    "using System.Linq;\n",
    "using Microsoft.AspNetCore.Html;\n"
   ]
  },
  {
   "cell_type": "code",
   "execution_count": 2,
   "metadata": {
    "dotnet_interactive": {
     "language": "csharp"
    },
    "polyglot_notebook": {
     "kernelName": "csharp"
    },
    "vscode": {
     "languageId": "polyglot-notebook"
    }
   },
   "outputs": [
    {
     "data": {
      "text/html": [
       "<table id=\"table_638142388570166735\"><caption><h3 style=\"text-align: center;\">DataFrame - 61 rows </h3></caption><thead><tr><th><i>index</i></th><th>Date</th><th>Open</th><th>High</th><th>Low</th><th>Close</th><th>Volume</th><th>Adj Close</th></tr></thead><tbody><tr style=\"display: none\"><td><i><div class=\"dni-plaintext\"><pre>0</pre></div></i></td><td><span>2009-03-31 00:00:00Z</span></td><td><div class=\"dni-plaintext\"><pre>17.83</pre></div></td><td><div class=\"dni-plaintext\"><pre>18.79</pre></div></td><td><div class=\"dni-plaintext\"><pre>17.78</pre></div></td><td><div class=\"dni-plaintext\"><pre>18.37</pre></div></td><td><div class=\"dni-plaintext\"><pre>92095500</pre></div></td><td><div class=\"dni-plaintext\"><pre>17.81</pre></div></td></tr><tr style=\"display: none\"><td><i><div class=\"dni-plaintext\"><pre>1</pre></div></i></td><td><span>2009-03-30 00:00:00Z</span></td><td><div class=\"dni-plaintext\"><pre>17.74</pre></div></td><td><div class=\"dni-plaintext\"><pre>17.76</pre></div></td><td><div class=\"dni-plaintext\"><pre>17.27</pre></div></td><td><div class=\"dni-plaintext\"><pre>17.48</pre></div></td><td><div class=\"dni-plaintext\"><pre>49633000</pre></div></td><td><div class=\"dni-plaintext\"><pre>16.95</pre></div></td></tr><tr style=\"display: none\"><td><i><div class=\"dni-plaintext\"><pre>2</pre></div></i></td><td><span>2009-03-27 00:00:00Z</span></td><td><div class=\"dni-plaintext\"><pre>18.54</pre></div></td><td><div class=\"dni-plaintext\"><pre>18.62</pre></div></td><td><div class=\"dni-plaintext\"><pre>18.05</pre></div></td><td><div class=\"dni-plaintext\"><pre>18.13</pre></div></td><td><div class=\"dni-plaintext\"><pre>47670400</pre></div></td><td><div class=\"dni-plaintext\"><pre>17.58</pre></div></td></tr><tr style=\"display: none\"><td><i><div class=\"dni-plaintext\"><pre>3</pre></div></i></td><td><span>2009-03-26 00:00:00Z</span></td><td><div class=\"dni-plaintext\"><pre>18.17</pre></div></td><td><div class=\"dni-plaintext\"><pre>18.88</pre></div></td><td><div class=\"dni-plaintext\"><pre>18.12</pre></div></td><td><div class=\"dni-plaintext\"><pre>18.83</pre></div></td><td><div class=\"dni-plaintext\"><pre>63775100</pre></div></td><td><div class=\"dni-plaintext\"><pre>18.26</pre></div></td></tr><tr style=\"display: none\"><td><i><div class=\"dni-plaintext\"><pre>4</pre></div></i></td><td><span>2009-03-25 00:00:00Z</span></td><td><div class=\"dni-plaintext\"><pre>17.98</pre></div></td><td><div class=\"dni-plaintext\"><pre>18.31</pre></div></td><td><div class=\"dni-plaintext\"><pre>17.52</pre></div></td><td><div class=\"dni-plaintext\"><pre>17.88</pre></div></td><td><div class=\"dni-plaintext\"><pre>73927100</pre></div></td><td><div class=\"dni-plaintext\"><pre>17.34</pre></div></td></tr><tr style=\"display: none\"><td><i><div class=\"dni-plaintext\"><pre>5</pre></div></i></td><td><span>2009-03-24 00:00:00Z</span></td><td><div class=\"dni-plaintext\"><pre>18.04</pre></div></td><td><div class=\"dni-plaintext\"><pre>18.21</pre></div></td><td><div class=\"dni-plaintext\"><pre>17.84</pre></div></td><td><div class=\"dni-plaintext\"><pre>17.93</pre></div></td><td><div class=\"dni-plaintext\"><pre>50044100</pre></div></td><td><div class=\"dni-plaintext\"><pre>17.39</pre></div></td></tr><tr style=\"display: none\"><td><i><div class=\"dni-plaintext\"><pre>6</pre></div></i></td><td><span>2009-03-23 00:00:00Z</span></td><td><div class=\"dni-plaintext\"><pre>17.37</pre></div></td><td><div class=\"dni-plaintext\"><pre>18.59</pre></div></td><td><div class=\"dni-plaintext\"><pre>17.31</pre></div></td><td><div class=\"dni-plaintext\"><pre>18.33</pre></div></td><td><div class=\"dni-plaintext\"><pre>71600000</pre></div></td><td><div class=\"dni-plaintext\"><pre>17.77</pre></div></td></tr><tr style=\"display: none\"><td><i><div class=\"dni-plaintext\"><pre>7</pre></div></i></td><td><span>2009-03-20 00:00:00Z</span></td><td><div class=\"dni-plaintext\"><pre>17.32</pre></div></td><td><div class=\"dni-plaintext\"><pre>17.65</pre></div></td><td><div class=\"dni-plaintext\"><pre>16.88</pre></div></td><td><div class=\"dni-plaintext\"><pre>17.06</pre></div></td><td><div class=\"dni-plaintext\"><pre>81725500</pre></div></td><td><div class=\"dni-plaintext\"><pre>16.54</pre></div></td></tr><tr style=\"display: none\"><td><i><div class=\"dni-plaintext\"><pre>8</pre></div></i></td><td><span>2009-03-19 00:00:00Z</span></td><td><div class=\"dni-plaintext\"><pre>17.37</pre></div></td><td><div class=\"dni-plaintext\"><pre>17.45</pre></div></td><td><div class=\"dni-plaintext\"><pre>16.92</pre></div></td><td><div class=\"dni-plaintext\"><pre>17.14</pre></div></td><td><div class=\"dni-plaintext\"><pre>58994600</pre></div></td><td><div class=\"dni-plaintext\"><pre>16.62</pre></div></td></tr><tr style=\"display: none\"><td><i><div class=\"dni-plaintext\"><pre>9</pre></div></i></td><td><span>2009-03-18 00:00:00Z</span></td><td><div class=\"dni-plaintext\"><pre>17.03</pre></div></td><td><div class=\"dni-plaintext\"><pre>17.22</pre></div></td><td><div class=\"dni-plaintext\"><pre>16.6</pre></div></td><td><div class=\"dni-plaintext\"><pre>16.96</pre></div></td><td><div class=\"dni-plaintext\"><pre>70710700</pre></div></td><td><div class=\"dni-plaintext\"><pre>16.45</pre></div></td></tr><tr style=\"display: none\"><td><i><div class=\"dni-plaintext\"><pre>10</pre></div></i></td><td><span>2009-03-17 00:00:00Z</span></td><td><div class=\"dni-plaintext\"><pre>16.32</pre></div></td><td><div class=\"dni-plaintext\"><pre>16.9</pre></div></td><td><div class=\"dni-plaintext\"><pre>16.26</pre></div></td><td><div class=\"dni-plaintext\"><pre>16.9</pre></div></td><td><div class=\"dni-plaintext\"><pre>62481000</pre></div></td><td><div class=\"dni-plaintext\"><pre>16.39</pre></div></td></tr><tr style=\"display: none\"><td><i><div class=\"dni-plaintext\"><pre>11</pre></div></i></td><td><span>2009-03-16 00:00:00Z</span></td><td><div class=\"dni-plaintext\"><pre>16.82</pre></div></td><td><div class=\"dni-plaintext\"><pre>16.96</pre></div></td><td><div class=\"dni-plaintext\"><pre>16.24</pre></div></td><td><div class=\"dni-plaintext\"><pre>16.25</pre></div></td><td><div class=\"dni-plaintext\"><pre>67028900</pre></div></td><td><div class=\"dni-plaintext\"><pre>15.76</pre></div></td></tr><tr style=\"display: none\"><td><i><div class=\"dni-plaintext\"><pre>12</pre></div></i></td><td><span>2009-03-13 00:00:00Z</span></td><td><div class=\"dni-plaintext\"><pre>16.98</pre></div></td><td><div class=\"dni-plaintext\"><pre>17.05</pre></div></td><td><div class=\"dni-plaintext\"><pre>16.18</pre></div></td><td><div class=\"dni-plaintext\"><pre>16.65</pre></div></td><td><div class=\"dni-plaintext\"><pre>82965800</pre></div></td><td><div class=\"dni-plaintext\"><pre>16.14</pre></div></td></tr><tr style=\"display: none\"><td><i><div class=\"dni-plaintext\"><pre>13</pre></div></i></td><td><span>2009-03-12 00:00:00Z</span></td><td><div class=\"dni-plaintext\"><pre>17.01</pre></div></td><td><div class=\"dni-plaintext\"><pre>17.04</pre></div></td><td><div class=\"dni-plaintext\"><pre>16.48</pre></div></td><td><div class=\"dni-plaintext\"><pre>17.01</pre></div></td><td><div class=\"dni-plaintext\"><pre>93694100</pre></div></td><td><div class=\"dni-plaintext\"><pre>16.49</pre></div></td></tr><tr style=\"display: none\"><td><i><div class=\"dni-plaintext\"><pre>14</pre></div></i></td><td><span>2009-03-11 00:00:00Z</span></td><td><div class=\"dni-plaintext\"><pre>16.63</pre></div></td><td><div class=\"dni-plaintext\"><pre>17.2</pre></div></td><td><div class=\"dni-plaintext\"><pre>16.43</pre></div></td><td><div class=\"dni-plaintext\"><pre>17.11</pre></div></td><td><div class=\"dni-plaintext\"><pre>84522200</pre></div></td><td><div class=\"dni-plaintext\"><pre>16.59</pre></div></td></tr><tr style=\"display: none\"><td><i><div class=\"dni-plaintext\"><pre>15</pre></div></i></td><td><span>2009-03-10 00:00:00Z</span></td><td><div class=\"dni-plaintext\"><pre>15.37</pre></div></td><td><div class=\"dni-plaintext\"><pre>16.62</pre></div></td><td><div class=\"dni-plaintext\"><pre>15.25</pre></div></td><td><div class=\"dni-plaintext\"><pre>16.48</pre></div></td><td><div class=\"dni-plaintext\"><pre>95184200</pre></div></td><td><div class=\"dni-plaintext\"><pre>15.98</pre></div></td></tr><tr style=\"display: none\"><td><i><div class=\"dni-plaintext\"><pre>16</pre></div></i></td><td><span>2009-03-09 00:00:00Z</span></td><td><div class=\"dni-plaintext\"><pre>15.2</pre></div></td><td><div class=\"dni-plaintext\"><pre>15.74</pre></div></td><td><div class=\"dni-plaintext\"><pre>15.1</pre></div></td><td><div class=\"dni-plaintext\"><pre>15.15</pre></div></td><td><div class=\"dni-plaintext\"><pre>66479100</pre></div></td><td><div class=\"dni-plaintext\"><pre>14.69</pre></div></td></tr><tr style=\"display: none\"><td><i><div class=\"dni-plaintext\"><pre>17</pre></div></i></td><td><span>2009-03-06 00:00:00Z</span></td><td><div class=\"dni-plaintext\"><pre>15.35</pre></div></td><td><div class=\"dni-plaintext\"><pre>15.62</pre></div></td><td><div class=\"dni-plaintext\"><pre>14.87</pre></div></td><td><div class=\"dni-plaintext\"><pre>15.28</pre></div></td><td><div class=\"dni-plaintext\"><pre>92821400</pre></div></td><td><div class=\"dni-plaintext\"><pre>14.82</pre></div></td></tr><tr style=\"display: none\"><td><i><div class=\"dni-plaintext\"><pre>18</pre></div></i></td><td><span>2009-03-05 00:00:00Z</span></td><td><div class=\"dni-plaintext\"><pre>15.86</pre></div></td><td><div class=\"dni-plaintext\"><pre>15.88</pre></div></td><td><div class=\"dni-plaintext\"><pre>15.27</pre></div></td><td><div class=\"dni-plaintext\"><pre>15.27</pre></div></td><td><div class=\"dni-plaintext\"><pre>89708500</pre></div></td><td><div class=\"dni-plaintext\"><pre>14.81</pre></div></td></tr><tr style=\"display: none\"><td><i><div class=\"dni-plaintext\"><pre>19</pre></div></i></td><td><span>2009-03-04 00:00:00Z</span></td><td><div class=\"dni-plaintext\"><pre>16.12</pre></div></td><td><div class=\"dni-plaintext\"><pre>16.4</pre></div></td><td><div class=\"dni-plaintext\"><pre>15.89</pre></div></td><td><div class=\"dni-plaintext\"><pre>16.12</pre></div></td><td><div class=\"dni-plaintext\"><pre>69285100</pre></div></td><td><div class=\"dni-plaintext\"><pre>15.63</pre></div></td></tr><tr style=\"display: none\"><td><i><div class=\"dni-plaintext\"><pre>20</pre></div></i></td><td><span>2009-03-03 00:00:00Z</span></td><td><div class=\"dni-plaintext\"><pre>16.03</pre></div></td><td><div class=\"dni-plaintext\"><pre>16.24</pre></div></td><td><div class=\"dni-plaintext\"><pre>15.64</pre></div></td><td><div class=\"dni-plaintext\"><pre>15.88</pre></div></td><td><div class=\"dni-plaintext\"><pre>80476600</pre></div></td><td><div class=\"dni-plaintext\"><pre>15.4</pre></div></td></tr><tr style=\"display: none\"><td><i><div class=\"dni-plaintext\"><pre>21</pre></div></i></td><td><span>2009-03-02 00:00:00Z</span></td><td><div class=\"dni-plaintext\"><pre>15.96</pre></div></td><td><div class=\"dni-plaintext\"><pre>16.25</pre></div></td><td><div class=\"dni-plaintext\"><pre>15.72</pre></div></td><td><div class=\"dni-plaintext\"><pre>15.79</pre></div></td><td><div class=\"dni-plaintext\"><pre>80602100</pre></div></td><td><div class=\"dni-plaintext\"><pre>15.31</pre></div></td></tr><tr style=\"display: none\"><td><i><div class=\"dni-plaintext\"><pre>22</pre></div></i></td><td><span>2009-02-27 00:00:00Z</span></td><td><div class=\"dni-plaintext\"><pre>16.29</pre></div></td><td><div class=\"dni-plaintext\"><pre>16.52</pre></div></td><td><div class=\"dni-plaintext\"><pre>16.1</pre></div></td><td><div class=\"dni-plaintext\"><pre>16.15</pre></div></td><td><div class=\"dni-plaintext\"><pre>93428000</pre></div></td><td><div class=\"dni-plaintext\"><pre>15.66</pre></div></td></tr><tr style=\"display: none\"><td><i><div class=\"dni-plaintext\"><pre>23</pre></div></i></td><td><span>2009-02-26 00:00:00Z</span></td><td><div class=\"dni-plaintext\"><pre>17.05</pre></div></td><td><div class=\"dni-plaintext\"><pre>17.08</pre></div></td><td><div class=\"dni-plaintext\"><pre>16.42</pre></div></td><td><div class=\"dni-plaintext\"><pre>16.42</pre></div></td><td><div class=\"dni-plaintext\"><pre>83219500</pre></div></td><td><div class=\"dni-plaintext\"><pre>15.92</pre></div></td></tr><tr style=\"display: none\"><td><i><div class=\"dni-plaintext\"><pre>24</pre></div></i></td><td><span>2009-02-25 00:00:00Z</span></td><td><div class=\"dni-plaintext\"><pre>17.01</pre></div></td><td><div class=\"dni-plaintext\"><pre>17.24</pre></div></td><td><div class=\"dni-plaintext\"><pre>16.46</pre></div></td><td><div class=\"dni-plaintext\"><pre>16.96</pre></div></td><td><div class=\"dni-plaintext\"><pre>105894600</pre></div></td><td><div class=\"dni-plaintext\"><pre>16.45</pre></div></td></tr><tr style=\"display: none\"><td><i><div class=\"dni-plaintext\"><pre>25</pre></div></i></td><td><span>2009-02-24 00:00:00Z</span></td><td><div class=\"dni-plaintext\"><pre>17.03</pre></div></td><td><div class=\"dni-plaintext\"><pre>17.35</pre></div></td><td><div class=\"dni-plaintext\"><pre>16.36</pre></div></td><td><div class=\"dni-plaintext\"><pre>17.17</pre></div></td><td><div class=\"dni-plaintext\"><pre>122674500</pre></div></td><td><div class=\"dni-plaintext\"><pre>16.65</pre></div></td></tr><tr style=\"display: none\"><td><i><div class=\"dni-plaintext\"><pre>26</pre></div></i></td><td><span>2009-02-23 00:00:00Z</span></td><td><div class=\"dni-plaintext\"><pre>18.02</pre></div></td><td><div class=\"dni-plaintext\"><pre>18.15</pre></div></td><td><div class=\"dni-plaintext\"><pre>17.16</pre></div></td><td><div class=\"dni-plaintext\"><pre>17.21</pre></div></td><td><div class=\"dni-plaintext\"><pre>70803400</pre></div></td><td><div class=\"dni-plaintext\"><pre>16.69</pre></div></td></tr><tr style=\"display: none\"><td><i><div class=\"dni-plaintext\"><pre>27</pre></div></i></td><td><span>2009-02-20 00:00:00Z</span></td><td><div class=\"dni-plaintext\"><pre>17.77</pre></div></td><td><div class=\"dni-plaintext\"><pre>18.19</pre></div></td><td><div class=\"dni-plaintext\"><pre>17.66</pre></div></td><td><div class=\"dni-plaintext\"><pre>18</pre></div></td><td><div class=\"dni-plaintext\"><pre>69413800</pre></div></td><td><div class=\"dni-plaintext\"><pre>17.45</pre></div></td></tr><tr style=\"display: none\"><td><i><div class=\"dni-plaintext\"><pre>28</pre></div></i></td><td><span>2009-02-19 00:00:00Z</span></td><td><div class=\"dni-plaintext\"><pre>18.3</pre></div></td><td><div class=\"dni-plaintext\"><pre>18.38</pre></div></td><td><div class=\"dni-plaintext\"><pre>17.81</pre></div></td><td><div class=\"dni-plaintext\"><pre>17.91</pre></div></td><td><div class=\"dni-plaintext\"><pre>49195600</pre></div></td><td><div class=\"dni-plaintext\"><pre>17.37</pre></div></td></tr><tr style=\"display: none\"><td><i><div class=\"dni-plaintext\"><pre>29</pre></div></i></td><td><span>2009-02-18 00:00:00Z</span></td><td><div class=\"dni-plaintext\"><pre>18.22</pre></div></td><td><div class=\"dni-plaintext\"><pre>18.45</pre></div></td><td><div class=\"dni-plaintext\"><pre>18</pre></div></td><td><div class=\"dni-plaintext\"><pre>18.12</pre></div></td><td><div class=\"dni-plaintext\"><pre>54946900</pre></div></td><td><div class=\"dni-plaintext\"><pre>17.57</pre></div></td></tr><tr style=\"display: none\"><td><i><div class=\"dni-plaintext\"><pre>30</pre></div></i></td><td><span>2009-02-17 00:00:00Z</span></td><td><div class=\"dni-plaintext\"><pre>18.49</pre></div></td><td><div class=\"dni-plaintext\"><pre>18.5</pre></div></td><td><div class=\"dni-plaintext\"><pre>17.89</pre></div></td><td><div class=\"dni-plaintext\"><pre>18.09</pre></div></td><td><div class=\"dni-plaintext\"><pre>75853300</pre></div></td><td><div class=\"dni-plaintext\"><pre>17.54</pre></div></td></tr><tr style=\"display: none\"><td><i><div class=\"dni-plaintext\"><pre>31</pre></div></i></td><td><span>2009-02-13 00:00:00Z</span></td><td><div class=\"dni-plaintext\"><pre>19.27</pre></div></td><td><div class=\"dni-plaintext\"><pre>19.47</pre></div></td><td><div class=\"dni-plaintext\"><pre>19.04</pre></div></td><td><div class=\"dni-plaintext\"><pre>19.09</pre></div></td><td><div class=\"dni-plaintext\"><pre>47416000</pre></div></td><td><div class=\"dni-plaintext\"><pre>18.38</pre></div></td></tr><tr style=\"display: none\"><td><i><div class=\"dni-plaintext\"><pre>32</pre></div></i></td><td><span>2009-02-12 00:00:00Z</span></td><td><div class=\"dni-plaintext\"><pre>18.97</pre></div></td><td><div class=\"dni-plaintext\"><pre>19.32</pre></div></td><td><div class=\"dni-plaintext\"><pre>18.54</pre></div></td><td><div class=\"dni-plaintext\"><pre>19.26</pre></div></td><td><div class=\"dni-plaintext\"><pre>75323200</pre></div></td><td><div class=\"dni-plaintext\"><pre>18.55</pre></div></td></tr><tr style=\"display: none\"><td><i><div class=\"dni-plaintext\"><pre>33</pre></div></i></td><td><span>2009-02-11 00:00:00Z</span></td><td><div class=\"dni-plaintext\"><pre>18.94</pre></div></td><td><div class=\"dni-plaintext\"><pre>19.49</pre></div></td><td><div class=\"dni-plaintext\"><pre>18.92</pre></div></td><td><div class=\"dni-plaintext\"><pre>19.21</pre></div></td><td><div class=\"dni-plaintext\"><pre>58599000</pre></div></td><td><div class=\"dni-plaintext\"><pre>18.5</pre></div></td></tr><tr style=\"display: none\"><td><i><div class=\"dni-plaintext\"><pre>34</pre></div></i></td><td><span>2009-02-10 00:00:00Z</span></td><td><div class=\"dni-plaintext\"><pre>19.25</pre></div></td><td><div class=\"dni-plaintext\"><pre>19.8</pre></div></td><td><div class=\"dni-plaintext\"><pre>18.7</pre></div></td><td><div class=\"dni-plaintext\"><pre>18.8</pre></div></td><td><div class=\"dni-plaintext\"><pre>83953200</pre></div></td><td><div class=\"dni-plaintext\"><pre>18.1</pre></div></td></tr><tr style=\"display: none\"><td><i><div class=\"dni-plaintext\"><pre>35</pre></div></i></td><td><span>2009-02-09 00:00:00Z</span></td><td><div class=\"dni-plaintext\"><pre>19.64</pre></div></td><td><div class=\"dni-plaintext\"><pre>19.77</pre></div></td><td><div class=\"dni-plaintext\"><pre>19.26</pre></div></td><td><div class=\"dni-plaintext\"><pre>19.44</pre></div></td><td><div class=\"dni-plaintext\"><pre>52196400</pre></div></td><td><div class=\"dni-plaintext\"><pre>18.72</pre></div></td></tr><tr style=\"display: none\"><td><i><div class=\"dni-plaintext\"><pre>36</pre></div></i></td><td><span>2009-02-06 00:00:00Z</span></td><td><div class=\"dni-plaintext\"><pre>19.16</pre></div></td><td><div class=\"dni-plaintext\"><pre>19.93</pre></div></td><td><div class=\"dni-plaintext\"><pre>19.06</pre></div></td><td><div class=\"dni-plaintext\"><pre>19.66</pre></div></td><td><div class=\"dni-plaintext\"><pre>86746000</pre></div></td><td><div class=\"dni-plaintext\"><pre>18.93</pre></div></td></tr><tr style=\"display: none\"><td><i><div class=\"dni-plaintext\"><pre>37</pre></div></i></td><td><span>2009-02-05 00:00:00Z</span></td><td><div class=\"dni-plaintext\"><pre>18.51</pre></div></td><td><div class=\"dni-plaintext\"><pre>19.14</pre></div></td><td><div class=\"dni-plaintext\"><pre>18.25</pre></div></td><td><div class=\"dni-plaintext\"><pre>19.04</pre></div></td><td><div class=\"dni-plaintext\"><pre>75195200</pre></div></td><td><div class=\"dni-plaintext\"><pre>18.34</pre></div></td></tr><tr style=\"display: none\"><td><i><div class=\"dni-plaintext\"><pre>38</pre></div></i></td><td><span>2009-02-04 00:00:00Z</span></td><td><div class=\"dni-plaintext\"><pre>18.54</pre></div></td><td><div class=\"dni-plaintext\"><pre>19</pre></div></td><td><div class=\"dni-plaintext\"><pre>18.5</pre></div></td><td><div class=\"dni-plaintext\"><pre>18.63</pre></div></td><td><div class=\"dni-plaintext\"><pre>75618000</pre></div></td><td><div class=\"dni-plaintext\"><pre>17.94</pre></div></td></tr><tr style=\"display: none\"><td><i><div class=\"dni-plaintext\"><pre>39</pre></div></i></td><td><span>2009-02-03 00:00:00Z</span></td><td><div class=\"dni-plaintext\"><pre>17.85</pre></div></td><td><div class=\"dni-plaintext\"><pre>18.61</pre></div></td><td><div class=\"dni-plaintext\"><pre>17.6</pre></div></td><td><div class=\"dni-plaintext\"><pre>18.5</pre></div></td><td><div class=\"dni-plaintext\"><pre>86865100</pre></div></td><td><div class=\"dni-plaintext\"><pre>17.82</pre></div></td></tr><tr style=\"display: none\"><td><i><div class=\"dni-plaintext\"><pre>40</pre></div></i></td><td><span>2009-02-02 00:00:00Z</span></td><td><div class=\"dni-plaintext\"><pre>17.03</pre></div></td><td><div class=\"dni-plaintext\"><pre>18.13</pre></div></td><td><div class=\"dni-plaintext\"><pre>17</pre></div></td><td><div class=\"dni-plaintext\"><pre>17.83</pre></div></td><td><div class=\"dni-plaintext\"><pre>88871700</pre></div></td><td><div class=\"dni-plaintext\"><pre>17.17</pre></div></td></tr><tr style=\"display: none\"><td><i><div class=\"dni-plaintext\"><pre>41</pre></div></i></td><td><span>2009-01-30 00:00:00Z</span></td><td><div class=\"dni-plaintext\"><pre>17.74</pre></div></td><td><div class=\"dni-plaintext\"><pre>17.79</pre></div></td><td><div class=\"dni-plaintext\"><pre>17.1</pre></div></td><td><div class=\"dni-plaintext\"><pre>17.1</pre></div></td><td><div class=\"dni-plaintext\"><pre>62370900</pre></div></td><td><div class=\"dni-plaintext\"><pre>16.47</pre></div></td></tr><tr style=\"display: none\"><td><i><div class=\"dni-plaintext\"><pre>42</pre></div></i></td><td><span>2009-01-29 00:00:00Z</span></td><td><div class=\"dni-plaintext\"><pre>17.78</pre></div></td><td><div class=\"dni-plaintext\"><pre>17.96</pre></div></td><td><div class=\"dni-plaintext\"><pre>17.56</pre></div></td><td><div class=\"dni-plaintext\"><pre>17.59</pre></div></td><td><div class=\"dni-plaintext\"><pre>49192800</pre></div></td><td><div class=\"dni-plaintext\"><pre>16.94</pre></div></td></tr><tr style=\"display: none\"><td><i><div class=\"dni-plaintext\"><pre>43</pre></div></i></td><td><span>2009-01-28 00:00:00Z</span></td><td><div class=\"dni-plaintext\"><pre>17.8</pre></div></td><td><div class=\"dni-plaintext\"><pre>18.31</pre></div></td><td><div class=\"dni-plaintext\"><pre>17.76</pre></div></td><td><div class=\"dni-plaintext\"><pre>18.04</pre></div></td><td><div class=\"dni-plaintext\"><pre>64145500</pre></div></td><td><div class=\"dni-plaintext\"><pre>17.37</pre></div></td></tr><tr style=\"display: none\"><td><i><div class=\"dni-plaintext\"><pre>44</pre></div></i></td><td><span>2009-01-27 00:00:00Z</span></td><td><div class=\"dni-plaintext\"><pre>17.78</pre></div></td><td><div class=\"dni-plaintext\"><pre>17.97</pre></div></td><td><div class=\"dni-plaintext\"><pre>17.43</pre></div></td><td><div class=\"dni-plaintext\"><pre>17.66</pre></div></td><td><div class=\"dni-plaintext\"><pre>61695000</pre></div></td><td><div class=\"dni-plaintext\"><pre>17.01</pre></div></td></tr><tr style=\"display: none\"><td><i><div class=\"dni-plaintext\"><pre>45</pre></div></i></td><td><span>2009-01-26 00:00:00Z</span></td><td><div class=\"dni-plaintext\"><pre>17.29</pre></div></td><td><div class=\"dni-plaintext\"><pre>17.81</pre></div></td><td><div class=\"dni-plaintext\"><pre>17.23</pre></div></td><td><div class=\"dni-plaintext\"><pre>17.63</pre></div></td><td><div class=\"dni-plaintext\"><pre>92476500</pre></div></td><td><div class=\"dni-plaintext\"><pre>16.98</pre></div></td></tr><tr style=\"display: none\"><td><i><div class=\"dni-plaintext\"><pre>46</pre></div></i></td><td><span>2009-01-23 00:00:00Z</span></td><td><div class=\"dni-plaintext\"><pre>16.97</pre></div></td><td><div class=\"dni-plaintext\"><pre>17.49</pre></div></td><td><div class=\"dni-plaintext\"><pre>16.75</pre></div></td><td><div class=\"dni-plaintext\"><pre>17.2</pre></div></td><td><div class=\"dni-plaintext\"><pre>117020600</pre></div></td><td><div class=\"dni-plaintext\"><pre>16.56</pre></div></td></tr><tr style=\"display: none\"><td><i><div class=\"dni-plaintext\"><pre>47</pre></div></i></td><td><span>2009-01-22 00:00:00Z</span></td><td><div class=\"dni-plaintext\"><pre>18.05</pre></div></td><td><div class=\"dni-plaintext\"><pre>18.18</pre></div></td><td><div class=\"dni-plaintext\"><pre>17.07</pre></div></td><td><div class=\"dni-plaintext\"><pre>17.11</pre></div></td><td><div class=\"dni-plaintext\"><pre>222436600</pre></div></td><td><div class=\"dni-plaintext\"><pre>16.48</pre></div></td></tr><tr style=\"display: none\"><td><i><div class=\"dni-plaintext\"><pre>48</pre></div></i></td><td><span>2009-01-21 00:00:00Z</span></td><td><div class=\"dni-plaintext\"><pre>18.87</pre></div></td><td><div class=\"dni-plaintext\"><pre>19.45</pre></div></td><td><div class=\"dni-plaintext\"><pre>18.46</pre></div></td><td><div class=\"dni-plaintext\"><pre>19.38</pre></div></td><td><div class=\"dni-plaintext\"><pre>68340900</pre></div></td><td><div class=\"dni-plaintext\"><pre>18.66</pre></div></td></tr><tr style=\"display: none\"><td><i><div class=\"dni-plaintext\"><pre>49</pre></div></i></td><td><span>2009-01-20 00:00:00Z</span></td><td><div class=\"dni-plaintext\"><pre>19.46</pre></div></td><td><div class=\"dni-plaintext\"><pre>19.62</pre></div></td><td><div class=\"dni-plaintext\"><pre>18.37</pre></div></td><td><div class=\"dni-plaintext\"><pre>18.48</pre></div></td><td><div class=\"dni-plaintext\"><pre>89873000</pre></div></td><td><div class=\"dni-plaintext\"><pre>17.8</pre></div></td></tr><tr style=\"display: none\"><td><i><div class=\"dni-plaintext\"><pre>50</pre></div></i></td><td><span>2009-01-16 00:00:00Z</span></td><td><div class=\"dni-plaintext\"><pre>19.63</pre></div></td><td><div class=\"dni-plaintext\"><pre>19.91</pre></div></td><td><div class=\"dni-plaintext\"><pre>19.15</pre></div></td><td><div class=\"dni-plaintext\"><pre>19.71</pre></div></td><td><div class=\"dni-plaintext\"><pre>79634100</pre></div></td><td><div class=\"dni-plaintext\"><pre>18.98</pre></div></td></tr><tr style=\"display: none\"><td><i><div class=\"dni-plaintext\"><pre>51</pre></div></i></td><td><span>2009-01-15 00:00:00Z</span></td><td><div class=\"dni-plaintext\"><pre>19.07</pre></div></td><td><div class=\"dni-plaintext\"><pre>19.3</pre></div></td><td><div class=\"dni-plaintext\"><pre>18.52</pre></div></td><td><div class=\"dni-plaintext\"><pre>19.24</pre></div></td><td><div class=\"dni-plaintext\"><pre>96169800</pre></div></td><td><div class=\"dni-plaintext\"><pre>18.53</pre></div></td></tr><tr style=\"display: none\"><td><i><div class=\"dni-plaintext\"><pre>52</pre></div></i></td><td><span>2009-01-14 00:00:00Z</span></td><td><div class=\"dni-plaintext\"><pre>19.53</pre></div></td><td><div class=\"dni-plaintext\"><pre>19.68</pre></div></td><td><div class=\"dni-plaintext\"><pre>19.01</pre></div></td><td><div class=\"dni-plaintext\"><pre>19.09</pre></div></td><td><div class=\"dni-plaintext\"><pre>80257500</pre></div></td><td><div class=\"dni-plaintext\"><pre>18.38</pre></div></td></tr><tr style=\"display: none\"><td><i><div class=\"dni-plaintext\"><pre>53</pre></div></i></td><td><span>2009-01-13 00:00:00Z</span></td><td><div class=\"dni-plaintext\"><pre>19.52</pre></div></td><td><div class=\"dni-plaintext\"><pre>19.99</pre></div></td><td><div class=\"dni-plaintext\"><pre>19.52</pre></div></td><td><div class=\"dni-plaintext\"><pre>19.82</pre></div></td><td><div class=\"dni-plaintext\"><pre>65843500</pre></div></td><td><div class=\"dni-plaintext\"><pre>19.09</pre></div></td></tr><tr style=\"display: none\"><td><i><div class=\"dni-plaintext\"><pre>54</pre></div></i></td><td><span>2009-01-12 00:00:00Z</span></td><td><div class=\"dni-plaintext\"><pre>19.71</pre></div></td><td><div class=\"dni-plaintext\"><pre>19.79</pre></div></td><td><div class=\"dni-plaintext\"><pre>19.3</pre></div></td><td><div class=\"dni-plaintext\"><pre>19.47</pre></div></td><td><div class=\"dni-plaintext\"><pre>52163500</pre></div></td><td><div class=\"dni-plaintext\"><pre>18.75</pre></div></td></tr><tr style=\"display: none\"><td><i><div class=\"dni-plaintext\"><pre>55</pre></div></i></td><td><span>2009-01-09 00:00:00Z</span></td><td><div class=\"dni-plaintext\"><pre>20.17</pre></div></td><td><div class=\"dni-plaintext\"><pre>20.3</pre></div></td><td><div class=\"dni-plaintext\"><pre>19.41</pre></div></td><td><div class=\"dni-plaintext\"><pre>19.52</pre></div></td><td><div class=\"dni-plaintext\"><pre>49815300</pre></div></td><td><div class=\"dni-plaintext\"><pre>18.8</pre></div></td></tr><tr style=\"display: none\"><td><i><div class=\"dni-plaintext\"><pre>56</pre></div></i></td><td><span>2009-01-08 00:00:00Z</span></td><td><div class=\"dni-plaintext\"><pre>19.63</pre></div></td><td><div class=\"dni-plaintext\"><pre>20.19</pre></div></td><td><div class=\"dni-plaintext\"><pre>19.55</pre></div></td><td><div class=\"dni-plaintext\"><pre>20.12</pre></div></td><td><div class=\"dni-plaintext\"><pre>70229900</pre></div></td><td><div class=\"dni-plaintext\"><pre>19.38</pre></div></td></tr><tr style=\"display: none\"><td><i><div class=\"dni-plaintext\"><pre>57</pre></div></i></td><td><span>2009-01-07 00:00:00Z</span></td><td><div class=\"dni-plaintext\"><pre>20.19</pre></div></td><td><div class=\"dni-plaintext\"><pre>20.29</pre></div></td><td><div class=\"dni-plaintext\"><pre>19.48</pre></div></td><td><div class=\"dni-plaintext\"><pre>19.51</pre></div></td><td><div class=\"dni-plaintext\"><pre>72709900</pre></div></td><td><div class=\"dni-plaintext\"><pre>18.79</pre></div></td></tr><tr style=\"display: none\"><td><i><div class=\"dni-plaintext\"><pre>58</pre></div></i></td><td><span>2009-01-06 00:00:00Z</span></td><td><div class=\"dni-plaintext\"><pre>20.75</pre></div></td><td><div class=\"dni-plaintext\"><pre>21</pre></div></td><td><div class=\"dni-plaintext\"><pre>20.61</pre></div></td><td><div class=\"dni-plaintext\"><pre>20.76</pre></div></td><td><div class=\"dni-plaintext\"><pre>58083400</pre></div></td><td><div class=\"dni-plaintext\"><pre>19.99</pre></div></td></tr><tr style=\"display: none\"><td><i><div class=\"dni-plaintext\"><pre>59</pre></div></i></td><td><span>2009-01-05 00:00:00Z</span></td><td><div class=\"dni-plaintext\"><pre>20.2</pre></div></td><td><div class=\"dni-plaintext\"><pre>20.67</pre></div></td><td><div class=\"dni-plaintext\"><pre>20.06</pre></div></td><td><div class=\"dni-plaintext\"><pre>20.52</pre></div></td><td><div class=\"dni-plaintext\"><pre>61475200</pre></div></td><td><div class=\"dni-plaintext\"><pre>19.76</pre></div></td></tr><tr style=\"display: none\"><td><i><div class=\"dni-plaintext\"><pre>60</pre></div></i></td><td><span>2009-01-02 00:00:00Z</span></td><td><div class=\"dni-plaintext\"><pre>19.53</pre></div></td><td><div class=\"dni-plaintext\"><pre>20.4</pre></div></td><td><div class=\"dni-plaintext\"><pre>19.37</pre></div></td><td><div class=\"dni-plaintext\"><pre>20.33</pre></div></td><td><div class=\"dni-plaintext\"><pre>50084000</pre></div></td><td><div class=\"dni-plaintext\"><pre>19.58</pre></div></td></tr></tbody><tfoot><tr><td colspan=\"8\" style=\"text-align: center;\"><button style=\"margin: 2px;\" onclick=\"var allRows = document.querySelectorAll(&#39;#table_638142388570166735 tbody tr:nth-child(n)&#39;); for (let i = 0; i &lt; allRows.length; i++) { allRows[i].style.display=&#39;none&#39;; } document.querySelector(&#39;#page_638142388570166735&#39;).innerHTML = 1; var page = parseInt(document.querySelector(&#39;#page_638142388570166735&#39;).innerHTML) - 1; var pageRows = document.querySelectorAll(`#table_638142388570166735 tbody tr:nth-child(n + ${page * 25 + 1 })`); for (let j = 0; j &lt; 25; j++) { pageRows[j].style.display=&#39;table-row&#39;; } \">⏮</button><button style=\"margin: 2px;\" onclick=\"var allRows = document.querySelectorAll(&#39;#table_638142388570166735 tbody tr:nth-child(n)&#39;); for (let i = 0; i &lt; allRows.length; i++) { allRows[i].style.display=&#39;none&#39;; } var page = parseInt(document.querySelector(&#39;#page_638142388570166735&#39;).innerHTML) - 1; page = parseInt(page) + parseInt(-10); page = page &lt; 0 ? 0 : page; page = page > 2 ? 2 : page; document.querySelector(&#39;#page_638142388570166735&#39;).innerHTML = page + 1; var page = parseInt(document.querySelector(&#39;#page_638142388570166735&#39;).innerHTML) - 1; var pageRows = document.querySelectorAll(`#table_638142388570166735 tbody tr:nth-child(n + ${page * 25 + 1 })`); for (let j = 0; j &lt; 25; j++) { pageRows[j].style.display=&#39;table-row&#39;; } \">⏪</button><button style=\"margin: 2px;\" onclick=\"var allRows = document.querySelectorAll(&#39;#table_638142388570166735 tbody tr:nth-child(n)&#39;); for (let i = 0; i &lt; allRows.length; i++) { allRows[i].style.display=&#39;none&#39;; } var page = parseInt(document.querySelector(&#39;#page_638142388570166735&#39;).innerHTML) - 1; page = parseInt(page) + parseInt(-1); page = page &lt; 0 ? 0 : page; page = page > 2 ? 2 : page; document.querySelector(&#39;#page_638142388570166735&#39;).innerHTML = page + 1; var page = parseInt(document.querySelector(&#39;#page_638142388570166735&#39;).innerHTML) - 1; var pageRows = document.querySelectorAll(`#table_638142388570166735 tbody tr:nth-child(n + ${page * 25 + 1 })`); for (let j = 0; j &lt; 25; j++) { pageRows[j].style.display=&#39;table-row&#39;; } \">◀️</button><b style=\"margin: 2px;\">Page</b><b id=\"page_638142388570166735\" style=\"margin: 2px;\">1</b><button style=\"margin: 2px;\" onclick=\"var allRows = document.querySelectorAll(&#39;#table_638142388570166735 tbody tr:nth-child(n)&#39;); for (let i = 0; i &lt; allRows.length; i++) { allRows[i].style.display=&#39;none&#39;; } var page = parseInt(document.querySelector(&#39;#page_638142388570166735&#39;).innerHTML) - 1; page = parseInt(page) + parseInt(1); page = page &lt; 0 ? 0 : page; page = page > 2 ? 2 : page; document.querySelector(&#39;#page_638142388570166735&#39;).innerHTML = page + 1; var page = parseInt(document.querySelector(&#39;#page_638142388570166735&#39;).innerHTML) - 1; var pageRows = document.querySelectorAll(`#table_638142388570166735 tbody tr:nth-child(n + ${page * 25 + 1 })`); for (let j = 0; j &lt; 25; j++) { pageRows[j].style.display=&#39;table-row&#39;; } \">▶️</button><button style=\"margin: 2px;\" onclick=\"var allRows = document.querySelectorAll(&#39;#table_638142388570166735 tbody tr:nth-child(n)&#39;); for (let i = 0; i &lt; allRows.length; i++) { allRows[i].style.display=&#39;none&#39;; } var page = parseInt(document.querySelector(&#39;#page_638142388570166735&#39;).innerHTML) - 1; page = parseInt(page) + parseInt(10); page = page &lt; 0 ? 0 : page; page = page > 2 ? 2 : page; document.querySelector(&#39;#page_638142388570166735&#39;).innerHTML = page + 1; var page = parseInt(document.querySelector(&#39;#page_638142388570166735&#39;).innerHTML) - 1; var pageRows = document.querySelectorAll(`#table_638142388570166735 tbody tr:nth-child(n + ${page * 25 + 1 })`); for (let j = 0; j &lt; 25; j++) { pageRows[j].style.display=&#39;table-row&#39;; } \">⏩</button><button style=\"margin: 2px;\" onclick=\"var allRows = document.querySelectorAll(&#39;#table_638142388570166735 tbody tr:nth-child(n)&#39;); for (let i = 0; i &lt; allRows.length; i++) { allRows[i].style.display=&#39;none&#39;; } document.querySelector(&#39;#page_638142388570166735&#39;).innerHTML = 3; var page = parseInt(document.querySelector(&#39;#page_638142388570166735&#39;).innerHTML) - 1; var pageRows = document.querySelectorAll(`#table_638142388570166735 tbody tr:nth-child(n + ${page * 25 + 1 })`); for (let j = 0; j &lt; 25; j++) { pageRows[j].style.display=&#39;table-row&#39;; } \">⏭️</button></td></tr></tfoot></table><style>\r\n",
       ".dni-code-hint {\r\n",
       "    font-style: italic;\r\n",
       "    overflow: hidden;\r\n",
       "    white-space: nowrap;\r\n",
       "}\r\n",
       ".dni-treeview {\r\n",
       "    white-space: nowrap;\r\n",
       "}\r\n",
       ".dni-treeview td {\r\n",
       "    vertical-align: top;\r\n",
       "    text-align: start;\r\n",
       "}\r\n",
       "details.dni-treeview {\r\n",
       "    padding-left: 1em;\r\n",
       "}\r\n",
       "table td {\r\n",
       "    text-align: start;\r\n",
       "}\r\n",
       "table tr { \r\n",
       "    vertical-align: top; \r\n",
       "    margin: 0em 0px;\r\n",
       "}\r\n",
       "table tr td pre \r\n",
       "{ \r\n",
       "    vertical-align: top !important; \r\n",
       "    margin: 0em 0px !important;\r\n",
       "} \r\n",
       "table th {\r\n",
       "    text-align: start;\r\n",
       "}\r\n",
       "</style><script>var page = parseInt(document.querySelector('#page_638142388570166735').innerHTML) - 1; var pageRows = document.querySelectorAll(`#table_638142388570166735 tbody tr:nth-child(n + ${page * 25 + 1 })`); for (let j = 0; j < 25; j++) { pageRows[j].style.display='table-row'; } </script>"
      ]
     },
     "metadata": {},
     "output_type": "display_data"
    }
   ],
   "source": [
    "var df1 = DataFrame.LoadCsv(\"ohlcdata.csv\");\n",
    "df1"
   ]
  },
  {
   "cell_type": "code",
   "execution_count": 3,
   "metadata": {
    "dotnet_interactive": {
     "language": "csharp"
    },
    "polyglot_notebook": {
     "kernelName": "csharp"
    },
    "vscode": {
     "languageId": "polyglot-notebook"
    }
   },
   "outputs": [],
   "source": [
    "using XPlot.Plotly;\n",
    "\n",
    "var chart1 = Chart.Plot(\n",
    "    new Scatter\n",
    "    {\n",
    "        x = df1.Columns[\"Date\"],\n",
    "        y = df1.Columns[\"Open\"],        \n",
    "        mode = \"lines+markers\"\n",
    "    }\n",
    ");\n",
    "\n",
    "var chart1_layout = new Layout.Layout{\n",
    "    title=\"Open Price\",\n",
    "    xaxis =new Xaxis{\n",
    "        title = \"Date\"\n",
    "        },\n",
    "    yaxis =new Yaxis{\n",
    "    title = \"Price (USD)\"\n",
    "        }           \n",
    "    };\n",
    "chart1.WithLayout(chart1_layout);\n",
    "\n",
    "chart1.Show();"
   ]
  }
 ],
 "metadata": {
  "kernelspec": {
   "display_name": ".NET (C#)",
   "language": "C#",
   "name": ".net-csharp"
  },
  "polyglot_notebook": {
   "kernelInfo": {
    "defaultKernelName": "csharp",
    "items": [
     {
      "aliases": [
       "c#",
       "C#"
      ],
      "languageName": "C#",
      "name": "csharp"
     },
     {
      "aliases": [
       "frontend"
      ],
      "languageName": null,
      "name": "vscode"
     },
     {
      "aliases": [],
      "languageName": null,
      "name": ".NET"
     },
     {
      "aliases": [
       "f#",
       "F#"
      ],
      "languageName": "F#",
      "name": "fsharp"
     },
     {
      "aliases": [],
      "languageName": "HTML",
      "name": "html"
     },
     {
      "aliases": [
       "js"
      ],
      "languageName": "JavaScript",
      "name": "javascript"
     },
     {
      "aliases": [],
      "languageName": "KQL",
      "name": "kql"
     },
     {
      "aliases": [],
      "languageName": "Mermaid",
      "name": "mermaid"
     },
     {
      "aliases": [
       "powershell"
      ],
      "languageName": "PowerShell",
      "name": "pwsh"
     },
     {
      "aliases": [],
      "languageName": "SQL",
      "name": "sql"
     },
     {
      "aliases": [],
      "languageName": null,
      "name": "value"
     },
     {
      "aliases": [],
      "name": "webview"
     }
    ]
   }
  }
 },
 "nbformat": 4,
 "nbformat_minor": 2
}
