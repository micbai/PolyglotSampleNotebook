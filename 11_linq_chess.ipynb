{
 "cells": [
  {
   "attachments": {},
   "cell_type": "markdown",
   "metadata": {},
   "source": [
    "# Linq\n",
    "\n",
    "Inspired by engineer Spock\n",
    "\n",
    "* [DotNetTurorials](https://dotnettutorials.net/lesson/introduction-to-linq/)\n",
    "* [Performance Improvements](https://devblogs.microsoft.com/dotnet/performance_improvements_in_net_7/)"
   ]
  },
  {
   "cell_type": "code",
   "execution_count": 2,
   "metadata": {
    "dotnet_interactive": {
     "language": "csharp"
    },
    "polyglot_notebook": {
     "kernelName": "csharp"
    }
   },
   "outputs": [
    {
     "data": {
      "text/html": [
       "<div><div></div><div></div><div><strong>Installed Packages</strong><ul><li><span>AlgorithmLibrary.MicBai, 0.0.5</span></li></ul></div></div>"
      ]
     },
     "metadata": {},
     "output_type": "display_data"
    }
   ],
   "source": [
    "#r \"nuget:AlgorithmLibrary.MicBai\" \n",
    "using AlgorithmLibrary;\n",
    "\n",
    "using System.IO;\n",
    "using System.Text;\n",
    "using System.Collections.Generic;\n",
    "using System.Linq;"
   ]
  },
  {
   "cell_type": "code",
   "execution_count": 3,
   "metadata": {
    "dotnet_interactive": {
     "language": "csharp"
    },
    "polyglot_notebook": {
     "kernelName": "csharp"
    }
   },
   "outputs": [],
   "source": [
    "public class ChessPlayer\n",
    "{\n",
    "    private string _country;\n",
    "    public string FirstName { get; set; }\n",
    "    public string LastName { get; set; }\n",
    "    public int BirthYear { get; set; }\n",
    "    public int Rating { get; set; }\n",
    "    public string Country\n",
    "    {\n",
    "        get\n",
    "        {\n",
    "            return _country;\n",
    "        }\n",
    "        set => _country = value;\n",
    "    }\n",
    "    public int Id { get; set; }\n",
    "    \n",
    "    public override string ToString()\n",
    "    {\n",
    "        return $\"Full Name: {FirstName + \" \" + LastName}, Rating = {Rating}, from {Country}, Born in {BirthYear}\";\n",
    "    }\n",
    "\n",
    "    public static ChessPlayer ParseFideCsv(string line)\n",
    "    {\n",
    "        string[] parts = line.Split(';');\n",
    "        return new ChessPlayer()\n",
    "        {\n",
    "            Id = int.Parse(parts[0]),\n",
    "            LastName = parts[1].Split(',')[0].Trim(),\n",
    "            FirstName = parts[1].Split(',')[1].Trim(),\n",
    "            Country = parts[3],\n",
    "            Rating = int.Parse(parts[4]),\n",
    "            BirthYear = int.Parse(parts[6])\n",
    "        };\n",
    "    }\n",
    "}"
   ]
  }
 ],
 "metadata": {
  "kernelspec": {
   "display_name": ".NET (C#)",
   "language": "C#",
   "name": ".net-csharp"
  },
  "language_info": {
   "name": "polyglot-notebook"
  },
  "polyglot_notebook": {
   "kernelInfo": {
    "defaultKernelName": "csharp",
    "items": [
     {
      "aliases": [],
      "languageName": "csharp",
      "name": "csharp"
     }
    ]
   }
  }
 },
 "nbformat": 4,
 "nbformat_minor": 2
}
