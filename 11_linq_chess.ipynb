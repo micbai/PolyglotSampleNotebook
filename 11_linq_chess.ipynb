{
 "cells": [
  {
   "attachments": {},
   "cell_type": "markdown",
   "metadata": {},
   "source": [
    "# Linq\n",
    "\n",
    "Inspired by engineer Spock\n"
   ]
  },
  {
   "cell_type": "code",
   "execution_count": 1,
   "metadata": {
    "dotnet_interactive": {
     "language": "csharp"
    },
    "polyglot_notebook": {
     "kernelName": "csharp"
    }
   },
   "outputs": [
    {
     "data": {
      "text/html": [
       "<div><div></div><div></div><div></div></div>"
      ]
     },
     "metadata": {},
     "output_type": "display_data"
    },
    {
     "ename": "Error",
     "evalue": "C:\\Users\\micha\\.packagemanagement\\nuget\\Projects\\17716--c8bada07-4e0a-44b3-9f37-619418ec48ae\\Project.fsproj : error NU1101: Das Paket \"AlgorithmLibrary.MicBai\" wurde nicht gefunden. Es sind keine Pakete mit dieser ID in folgenden Quellen vorhanden: C:\\Program Files\\dotnet\\library-packs, C:\\Program Files\\dotnet\\sdk\\7.0.300-preview.23179.2\\FSharp\\library-packs, Microsoft Visual Studio Offline Packages, nuget.org, WaferTrim",
     "output_type": "error",
     "traceback": [
      "C:\\Users\\micha\\.packagemanagement\\nuget\\Projects\\17716--c8bada07-4e0a-44b3-9f37-619418ec48ae\\Project.fsproj : error NU1101: Das Paket \"AlgorithmLibrary.MicBai\" wurde nicht gefunden. Es sind keine Pakete mit dieser ID in folgenden Quellen vorhanden: C:\\Program Files\\dotnet\\library-packs, C:\\Program Files\\dotnet\\sdk\\7.0.300-preview.23179.2\\FSharp\\library-packs, Microsoft Visual Studio Offline Packages, nuget.org, WaferTrim"
     ]
    }
   ],
   "source": [
    "#r \"nuget:AlgorithmLibrary.MicBai\" \n",
    "using AlgorithmLibrary;\n",
    "\n",
    "using System.IO;\n",
    "using System.Text;\n",
    "using System.Collections.Generic;\n",
    "using System.Linq;"
   ]
  },
  {
   "cell_type": "code",
   "execution_count": 3,
   "metadata": {
    "dotnet_interactive": {
     "language": "csharp"
    },
    "polyglot_notebook": {
     "kernelName": "csharp"
    }
   },
   "outputs": [],
   "source": [
    "public class ChessPlayer\n",
    "{\n",
    "    private string _country;\n",
    "    public string FirstName { get; set; }\n",
    "    public string LastName { get; set; }\n",
    "    public int BirthYear { get; set; }\n",
    "    public int Rating { get; set; }\n",
    "    public string Country\n",
    "    {\n",
    "        get\n",
    "        {\n",
    "            return _country;\n",
    "        }\n",
    "        set => _country = value;\n",
    "    }\n",
    "    public int Id { get; set; }\n",
    "    \n",
    "    public override string ToString()\n",
    "    {\n",
    "        return $\"Full Name: {FirstName + \" \" + LastName}, Rating = {Rating}, from {Country}, Born in {BirthYear}\";\n",
    "    }\n",
    "\n",
    "    public static ChessPlayer ParseFideCsv(string line)\n",
    "    {\n",
    "        string[] parts = line.Split(';');\n",
    "        return new ChessPlayer()\n",
    "        {\n",
    "            Id = int.Parse(parts[0]),\n",
    "            LastName = parts[1].Split(',')[0].Trim(),\n",
    "            FirstName = parts[1].Split(',')[1].Trim(),\n",
    "            Country = parts[3],\n",
    "            Rating = int.Parse(parts[4]),\n",
    "            BirthYear = int.Parse(parts[6])\n",
    "        };\n",
    "    }\n",
    "}"
   ]
  }
 ],
 "metadata": {
  "kernelspec": {
   "display_name": ".NET (C#)",
   "language": "C#",
   "name": ".net-csharp"
  },
  "language_info": {
   "name": "polyglot-notebook"
  },
  "polyglot_notebook": {
   "kernelInfo": {
    "defaultKernelName": "csharp",
    "items": [
     {
      "aliases": [],
      "languageName": "csharp",
      "name": "csharp"
     }
    ]
   }
  }
 },
 "nbformat": 4,
 "nbformat_minor": 2
}
