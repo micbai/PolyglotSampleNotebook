{
 "cells": [
  {
   "attachments": {},
   "cell_type": "markdown",
   "metadata": {},
   "source": [
    "### Using DataFrames in C#\n",
    "\n",
    "* [Link to article](https://swharden.com/blog/2022-05-01-dotnet-dataframe/)\n",
    "* [Microsoft Learning](https://learn.microsoft.com/en-us/dotnet/api/microsoft.data.analysis.dataframe?view=ml-dotnet-preview)\n",
    "* [Deedle](http://bluemountaincapital.github.io/Deedle/csharpintro.html)\n"
   ]
  },
  {
   "attachments": {},
   "cell_type": "markdown",
   "metadata": {},
   "source": [
    "\n",
    "\n",
    "\n",
    "\n"
   ]
  },
  {
   "cell_type": "code",
   "execution_count": null,
   "metadata": {
    "dotnet_interactive": {
     "language": "csharp"
    },
    "polyglot_notebook": {
     "kernelName": "csharp"
    }
   },
   "outputs": [],
   "source": [
    "#r \"nuget:Microsoft.Data.Analysis\"\n",
    "\n",
    "using Microsoft.Data.Analysis;"
   ]
  },
  {
   "cell_type": "code",
   "execution_count": null,
   "metadata": {
    "dotnet_interactive": {
     "language": "csharp"
    },
    "polyglot_notebook": {
     "kernelName": "csharp"
    }
   },
   "outputs": [],
   "source": [
    "string[] names = { \"Oliver\", \"Charlotte\", \"Henry\", \"Amelia\", \"Owen\" };\n",
    "int[] ages = { 23, 19, 42, 64, 35 };\n",
    "double[] heights = { 1.91, 1.62, 1.72, 1.57, 1.85 };\n",
    "\n",
    "\n",
    "DataFrameColumn[] columns = {\n",
    "    new StringDataFrameColumn(\"Name\", names),\n",
    "    new PrimitiveDataFrameColumn<int>(\"Age\", ages),\n",
    "    new PrimitiveDataFrameColumn<double>(\"Height\", heights),\n",
    "};\n",
    "\n",
    "DataFrame df = new(columns);\n",
    "\n",
    "//Console.Write(df);\n",
    "df\n"
   ]
  },
  {
   "attachments": {},
   "cell_type": "markdown",
   "metadata": {},
   "source": [
    "### Append a Row"
   ]
  },
  {
   "cell_type": "code",
   "execution_count": null,
   "metadata": {
    "dotnet_interactive": {
     "language": "csharp"
    },
    "polyglot_notebook": {
     "kernelName": "csharp"
    }
   },
   "outputs": [],
   "source": [
    "List<KeyValuePair<string, object>> newRowData = new()\n",
    "{\n",
    "    new KeyValuePair<string, object>(\"Name\", \"Scott\"),\n",
    "    new KeyValuePair<string, object>(\"Age\", 36),\n",
    "    new KeyValuePair<string, object>(\"Height\", 1.65),\n",
    "};\n",
    "\n",
    "df.Append(newRowData, inPlace: true);\n",
    "\n",
    "df"
   ]
  },
  {
   "attachments": {},
   "cell_type": "markdown",
   "metadata": {},
   "source": [
    "### Append a Column"
   ]
  },
  {
   "cell_type": "code",
   "execution_count": null,
   "metadata": {
    "dotnet_interactive": {
     "language": "csharp"
    },
    "polyglot_notebook": {
     "kernelName": "csharp"
    }
   },
   "outputs": [],
   "source": [
    "Random randNum = new Random();\n",
    "int min = 120;\n",
    "int max = 140;\n",
    "int count = (int)df.Rows.Count;\n",
    "int[] weights = Enumerable.Range(0, count).Select(i=>randNum.Next(min, max)).ToArray<int>(); //{ 123, 321, 111, 121, 130 };\n",
    "PrimitiveDataFrameColumn<int> weightCol = new(\"Weight\", weights);\n",
    "df.Columns.Add(weightCol);\n",
    "\n",
    "df\n"
   ]
  },
  {
   "attachments": {},
   "cell_type": "markdown",
   "metadata": {},
   "source": [
    "### Sort and Filter"
   ]
  },
  {
   "cell_type": "code",
   "execution_count": null,
   "metadata": {
    "dotnet_interactive": {
     "language": "csharp"
    },
    "polyglot_notebook": {
     "kernelName": "csharp"
    }
   },
   "outputs": [],
   "source": [
    "DataFrame df2 = df.OrderBy(\"Name\")\n",
    "    .Filter(df[\"Age\"].ElementwiseGreaterThan(30));\n",
    "\n",
    "df2.Display();"
   ]
  },
  {
   "attachments": {},
   "cell_type": "markdown",
   "metadata": {},
   "source": [
    "### Mathematical Operations"
   ]
  },
  {
   "cell_type": "code",
   "execution_count": null,
   "metadata": {
    "dotnet_interactive": {
     "language": "csharp"
    },
    "polyglot_notebook": {
     "kernelName": "csharp"
    }
   },
   "outputs": [],
   "source": [
    "DataFrameColumn iqCol = df[\"Age\"] * df[\"Height\"] * 1.5;\n",
    "\n",
    "double[] iqs = Enumerable.Range(0, (int)iqCol.Length)\n",
    "    .Select(x => (double)iqCol[x])\n",
    "    .ToArray();\n",
    "\n",
    "df.Columns.Add(new PrimitiveDataFrameColumn<double>(\"IQ\", iqs));\n",
    "\n",
    "df.Display();"
   ]
  },
  {
   "attachments": {},
   "cell_type": "markdown",
   "metadata": {},
   "source": [
    "### Statistical Operations\n",
    "* [LinqStatistics](https://github.com/dkackman/LinqStatistics)"
   ]
  },
  {
   "cell_type": "code",
   "execution_count": null,
   "metadata": {
    "dotnet_interactive": {
     "language": "csharp"
    },
    "polyglot_notebook": {
     "kernelName": "csharp"
    }
   },
   "outputs": [],
   "source": [
    "#r \"nuget:LinqStatistics\"\n",
    "\n",
    "using LinqStatistics;"
   ]
  },
  {
   "cell_type": "code",
   "execution_count": null,
   "metadata": {
    "dotnet_interactive": {
     "language": "csharp"
    },
    "polyglot_notebook": {
     "kernelName": "csharp"
    }
   },
   "outputs": [],
   "source": [
    "foreach (DataFrameColumn col in df.Columns.Skip(1))\n",
    "{\n",
    "    // warning: additional care must be taken for datasets which contain null\n",
    "    double[] values = Enumerable.Range(0, (int)col.Length).Select(x => Convert.ToDouble(col[x])).ToArray();\n",
    "    double mean = values.Average();\n",
    "    double std  = values.StandardDeviation();\n",
    "    Console.WriteLine($\"{col.Name} = {mean} +/- {std:N3} (n={values.Length})\");\n",
    "}"
   ]
  },
  {
   "attachments": {},
   "cell_type": "markdown",
   "metadata": {},
   "source": []
  }
 ],
 "metadata": {
  "kernelspec": {
   "display_name": ".NET (C#)",
   "language": "C#",
   "name": ".net-csharp"
  },
  "language_info": {
   "name": "polyglot-notebook"
  },
  "polyglot_notebook": {
   "kernelInfo": {
    "defaultKernelName": "csharp",
    "items": [
     {
      "aliases": [],
      "name": ".NET"
     },
     {
      "aliases": [
       "C#",
       "c#"
      ],
      "languageName": "C#",
      "name": "csharp"
     },
     {
      "aliases": [
       "F#",
       "f#"
      ],
      "languageName": "F#",
      "name": "fsharp"
     },
     {
      "aliases": [],
      "languageName": "HTML",
      "name": "html"
     },
     {
      "aliases": [
       "js"
      ],
      "languageName": "JavaScript",
      "name": "javascript"
     },
     {
      "aliases": [],
      "languageName": "KQL",
      "name": "kql"
     },
     {
      "aliases": [],
      "languageName": "Mermaid",
      "name": "mermaid"
     },
     {
      "aliases": [
       "powershell"
      ],
      "languageName": "PowerShell",
      "name": "pwsh"
     },
     {
      "aliases": [],
      "languageName": "SQL",
      "name": "sql"
     },
     {
      "aliases": [],
      "name": "value"
     },
     {
      "aliases": [
       "frontend"
      ],
      "name": "vscode"
     },
     {
      "aliases": [],
      "name": "webview"
     }
    ]
   }
  }
 },
 "nbformat": 4,
 "nbformat_minor": 2
}
