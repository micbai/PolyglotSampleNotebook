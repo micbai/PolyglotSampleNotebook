{
 "cells": [
  {
   "attachments": {},
   "cell_type": "markdown",
   "metadata": {},
   "source": [
    "# Linq\n",
    "Inspired by engineer Spock Udemy\n",
    "* [Udemy](https://www.udemy.com/course/master-linq-csharp)\n",
    "* [Microsoft](https://learn.microsoft.com/en-us/dotnet/csharp/tutorials/working-with-linq)\n",
    "* [Dotnet Try Samples](https://github.com/dotnet/try-samples/blob/main/101-linq-samples/index.md)"
   ]
  },
  {
   "cell_type": "code",
   "execution_count": null,
   "metadata": {
    "dotnet_interactive": {
     "language": "csharp"
    },
    "polyglot_notebook": {
     "kernelName": "csharp"
    }
   },
   "outputs": [],
   "source": [
    "#r \"nuget:AlgorithmLibrary.MicBai\" \n",
    "using AlgorithmLibrary;\n",
    "\n",
    "using System.IO;\n",
    "using System.Text;\n",
    "using System.Collections.Generic;\n",
    "using System.Linq;"
   ]
  },
  {
   "attachments": {},
   "cell_type": "markdown",
   "metadata": {},
   "source": [
    "[deferred execution](https://www.tutorialsteacher.com/linq/linq-deferred-execution)"
   ]
  },
  {
   "cell_type": "code",
   "execution_count": null,
   "metadata": {
    "dotnet_interactive": {
     "language": "csharp"
    },
    "polyglot_notebook": {
     "kernelName": "csharp"
    }
   },
   "outputs": [],
   "source": [
    "// class od Student with Id, Name and age\n",
    "public class Student\n",
    "{\n",
    "    public int Id { get; set; }\n",
    "    public string Name { get; set; }\n",
    "    public int Age { get; set; }\n",
    "}\n",
    "\n",
    "// list of students\n",
    "List<Student> studentsList = new List<Student>()\n",
    "{\n",
    "    new Student() { Id = 1, Name = \"John\", Age = 18 },\n",
    "    new Student() { Id = 2, Name = \"Steve\",  Age = 21 },\n",
    "    new Student() { Id = 3, Name = \"Bill\",  Age = 25 },\n",
    "    new Student() { Id = 4, Name = \"Ram\" , Age = 20 },\n",
    "    new Student() { Id = 5, Name = \"Ron\" , Age = 31 },\n",
    "    new Student() { Id = 6, Name = \"Chris\",  Age = 17 },\n",
    "    new Student() { Id = 7, Name = \"Rob\",Age = 19  },\n",
    "};\n",
    "\n",
    "// query does not execute here, btw no exception will be thrown here at this point\n",
    "var teenAgerStudents = from s in studentsList\n",
    "                       where s.Age > 12 && s.Age < 20\n",
    "                       select s;\n",
    "\n",
    "// this will execute the query, can throw the exception here\n",
    "foreach (var s in teenAgerStudents.OrderBy(x=>x.Age))\n",
    "    Console.WriteLine(s.Name);\n"
   ]
  },
  {
   "cell_type": "code",
   "execution_count": null,
   "metadata": {
    "dotnet_interactive": {
     "language": "csharp"
    },
    "polyglot_notebook": {
     "kernelName": "csharp"
    }
   },
   "outputs": [],
   "source": [
    "IEnumerable<char> str = \"abcdefu\";\n",
    "string vowels = \"aeiou\";\n",
    "var result = str.Where(c => !vowels.Contains(c));\n",
    "result.ForEach(c => Console.Write(c));"
   ]
  },
  {
   "attachments": {},
   "cell_type": "markdown",
   "metadata": {},
   "source": [
    "Problem - closures"
   ]
  },
  {
   "cell_type": "code",
   "execution_count": null,
   "metadata": {
    "dotnet_interactive": {
     "language": "csharp"
    },
    "polyglot_notebook": {
     "kernelName": "csharp"
    }
   },
   "outputs": [],
   "source": [
    "IEnumerable<char> str = \"abcdefu\";\n",
    "string vowels = \"aeiou\";\n",
    "for (var i = 0; i < vowels.Length; i++)\n",
    "{\n",
    "    // this line doesn't work\n",
    "    // ----> str = str.Where(x => x != vowels[i]);\n",
    "    \n",
    "    // but the line below works\n",
    "    // it depends how the delegate is implemented during runtime\n",
    "    // lambda expression is a closure, it captures the variable i\n",
    "    // and when the delegate is executed, it uses the current value of i\n",
    "    var c = vowels[i];\n",
    "    str = str.Where(x => x != c);\n",
    "    \n",
    "}\n",
    "str.ForEach(c => Console.Write(c));\n"
   ]
  },
  {
   "attachments": {},
   "cell_type": "markdown",
   "metadata": {},
   "source": [
    "Problem - multiple querys"
   ]
  },
  {
   "cell_type": "code",
   "execution_count": null,
   "metadata": {
    "dotnet_interactive": {
     "language": "csharp"
    },
    "polyglot_notebook": {
     "kernelName": "csharp"
    }
   },
   "outputs": [],
   "source": [
    "IEnumerable<Student> FilterStudensByAge(int age)\n",
    "{\n",
    "    return studentsList.Where(s => s.Age >= age);\n",
    "}\n",
    "\n",
    "// don't do this\n",
    "// this will query the data each time you iterate through the database\n",
    "// ----> IEnumerable<Student> students = FilterStudensByAge(20);\n",
    "\n",
    "// to avoid this, we can use the ToList() method\n",
    "// this will query the data base only once\n",
    "IEnumerable<Student> students = FilterStudensByAge(20).ToList();\n",
    "\n",
    "// this will query the data base\n",
    "Console.WriteLine(\"Students age 20 years and older\");\n",
    "foreach (var item in students)\n",
    "{\n",
    "    Console.WriteLine(item.Age);\n",
    "}\n",
    "\n",
    "// this will query the data base again\n",
    "Console.WriteLine(\"Students name 20 years and older\");\n",
    "foreach (var item in students)\n",
    "{\n",
    "    Console.WriteLine(item.Name);\n",
    "}\n"
   ]
  },
  {
   "attachments": {},
   "cell_type": "markdown",
   "metadata": {},
   "source": [
    "Modify a collection\n",
    "\n",
    "cannot modify the collection in a foreach loop, because collections are immutable\n",
    "\n",
    "could alter within a for loop going backward (not so good)\n",
    "\n",
    "could alter within a loop modifying the iterator (not so good)\n",
    "\n",
    "create a ne list\n",
    "\n",
    "use RemoveAll()\n",
    "\n"
   ]
  },
  {
   "cell_type": "code",
   "execution_count": null,
   "metadata": {
    "dotnet_interactive": {
     "language": "csharp"
    },
    "polyglot_notebook": {
     "kernelName": "csharp"
    }
   },
   "outputs": [],
   "source": [
    "var list = new List<int>() { 1, 2, 3, 4, 5, 6, 7, 8 };\n",
    "\n",
    "// this will throw an exception\n",
    "foreach (var item in list)\n",
    "{\n",
    "    Console.WriteLine(item);\n",
    "    if (item %2 == 0)\n",
    "        list.Remove(item);\n",
    "}"
   ]
  },
  {
   "cell_type": "code",
   "execution_count": null,
   "metadata": {
    "dotnet_interactive": {
     "language": "csharp"
    },
    "polyglot_notebook": {
     "kernelName": "csharp"
    }
   },
   "outputs": [],
   "source": [
    "var list1 = new List<int>() { 1, 2, 3, 4, 5, 6, 7, 8 };\n",
    "// best is to create a new list\n",
    "var result = list1.Where(x => x % 2 != 0).ToList();\n",
    "result.ForEach(x => Console.WriteLine(x));\n"
   ]
  },
  {
   "cell_type": "code",
   "execution_count": null,
   "metadata": {
    "dotnet_interactive": {
     "language": "csharp"
    },
    "polyglot_notebook": {
     "kernelName": "csharp"
    }
   },
   "outputs": [],
   "source": [
    "// use remove all \n",
    "var list2 = new List<int>() { 1, 2, 3, 4, 5, 6, 7, 8 };\n",
    "list2.RemoveAll(x => x % 2 == 0);\n",
    "list2.ForEach(x => Console.WriteLine(x));"
   ]
  },
  {
   "attachments": {},
   "cell_type": "markdown",
   "metadata": {},
   "source": [
    "Select"
   ]
  }
 ],
 "metadata": {
  "kernelspec": {
   "display_name": ".NET (C#)",
   "language": "C#",
   "name": ".net-csharp"
  },
  "language_info": {
   "name": "polyglot-notebook"
  },
  "polyglot_notebook": {
   "kernelInfo": {
    "defaultKernelName": "csharp",
    "items": [
     {
      "aliases": [],
      "languageName": "csharp",
      "name": "csharp"
     }
    ]
   }
  }
 },
 "nbformat": 4,
 "nbformat_minor": 2
}
