{
 "cells": [
  {
   "attachments": {},
   "cell_type": "markdown",
   "metadata": {},
   "source": []
  },
  {
   "cell_type": "code",
   "execution_count": 1,
   "metadata": {
    "dotnet_interactive": {
     "language": "csharp"
    },
    "polyglot_notebook": {
     "kernelName": "csharp"
    }
   },
   "outputs": [
    {
     "data": {
      "text/html": [
       "<div><div></div><div></div><div><strong>Installed Packages</strong><ul><li><span>AlgorithmLibrary.MicBai, 0.0.1</span></li><li><span>BenchmarkDotNet, 0.12.1</span></li></ul></div></div>"
      ]
     },
     "metadata": {},
     "output_type": "display_data"
    }
   ],
   "source": [
    "// local package source\n",
    "#r \"nuget:AlgorithmLibrary.MicBai\" \n",
    "#r \"nuget:BenchmarkDotNet, 0.12.1\"\n",
    "\n",
    "using System;\n",
    "using System.Collections.Generic;\n",
    "using System.Linq;\n",
    "using System.Text;\n",
    "using System.Threading.Tasks;\n",
    "\n",
    "using BenchmarkDotNet.Attributes;\n",
    "using BenchmarkDotNet.Running;\n",
    "\n",
    "using AlgorithmLibrary;"
   ]
  },
  {
   "cell_type": "code",
   "execution_count": null,
   "metadata": {
    "dotnet_interactive": {
     "language": "csharp"
    },
    "polyglot_notebook": {
     "kernelName": "csharp"
    }
   },
   "outputs": [],
   "source": [
    "/// <summary>\n",
    "/// Find any triplets that sum to zero.\n",
    "/// </summary>\n",
    "/// <param name=\"a\"></param>\n",
    "/// <returns></returns>\n",
    "public static int Count(int[] a)\n",
    "{\n",
    "    int n = a.Length;\n",
    "    int counter = 0;\n",
    "\n",
    "    for (int i = 0; i < n; i++)\n",
    "    {\n",
    "        for (int j = i + 1; j < n; j++)\n",
    "        {\n",
    "            for (int k = j + 1; k < n; k++)\n",
    "            {\n",
    "                if (a[i] + a[j] + a[k] == 0)\n",
    "                {\n",
    "                    counter++;\n",
    "                }\n",
    "            }\n",
    "        }\n",
    "    }\n",
    "\n",
    "    return counter;\n",
    "}"
   ]
  }
 ],
 "metadata": {
  "kernelspec": {
   "display_name": ".NET (C#)",
   "language": "C#",
   "name": ".net-csharp"
  },
  "language_info": {
   "name": "polyglot-notebook"
  },
  "polyglot_notebook": {
   "kernelInfo": {
    "defaultKernelName": "csharp",
    "items": [
     {
      "aliases": [],
      "languageName": "csharp",
      "name": "csharp"
     }
    ]
   }
  }
 },
 "nbformat": 4,
 "nbformat_minor": 2
}
